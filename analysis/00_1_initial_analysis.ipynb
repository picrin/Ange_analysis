{
 "cells": [
  {
   "cell_type": "markdown",
   "metadata": {},
   "source": [
    "# Step 1: Fetch source data\n",
    "\n",
    "First, a folder in the home directory called `~/data/` was created and the FASTQ files were dumped in their original format into `~/data/source/`"
   ]
  },
  {
   "cell_type": "raw",
   "metadata": {},
   "source": [
    "ubuntu@ip-172-31-28-144:~/data/source$ ls\n",
    "\n",
    "0-2_S1_L001_I1_001.fastq.gz  0-2_S1_L002_I1_001.fastq.gz  0-2_S1_L003_I1_001.fastq.gz  0-2_S1_L004_I1_001.fastq.gz  TGF_S2_L001_I1_001.fastq.gz  TGF_S2_L002_I1_001.fastq.gz  TGF_S2_L003_I1_001.fastq.gz  TGF_S2_L004_I1_001.fastq.gz\n",
    "0-2_S1_L001_R1_001.fastq.gz  0-2_S1_L002_R1_001.fastq.gz  0-2_S1_L003_R1_001.fastq.gz  0-2_S1_L004_R1_001.fastq.gz  TGF_S2_L001_R1_001.fastq.gz  TGF_S2_L002_R1_001.fastq.gz  TGF_S2_L003_R1_001.fastq.gz  TGF_S2_L004_R1_001.fastq.gz\n",
    "0-2_S1_L001_R2_001.fastq.gz  0-2_S1_L002_R2_001.fastq.gz  0-2_S1_L003_R2_001.fastq.gz  0-2_S1_L004_R2_001.fastq.gz  TGF_S2_L001_R2_001.fastq.gz  TGF_S2_L002_R2_001.fastq.gz  TGF_S2_L003_R2_001.fastq.gz  TGF_S2_L004_R2_001.fastq.gz"
   ]
  },
  {
   "cell_type": "markdown",
   "metadata": {},
   "source": [
    "# Step 2: Download and extract genome assembly\n",
    "\n",
    "The reference GRCh38 human genome assembly was downloaded form the official CellRanger [website](https://support.10xgenomics.com/single-cell-gene-expression/software/downloads/latest). Then, it was unpacked into our home directory."
   ]
  },
  {
   "cell_type": "raw",
   "metadata": {},
   "source": [
    "ubuntu@ip-172-31-28-144:~$ tar -xzvf refdata-cellranger-GRCh38-3.0.0.tar.gz"
   ]
  },
  {
   "cell_type": "markdown",
   "metadata": {},
   "source": [
    "# Step 3: Running CellRanger\n",
    "\n",
    "Create a directory called `~/data/cellranger_analysis/`. Run the following commands to generate our BAM files and CellRanger-generated primary count matrices (see [here](https://support.10xgenomics.com/single-cell-gene-expression/software/pipelines/latest/using/fastq-input#rightname) for more information):"
   ]
  },
  {
   "cell_type": "raw",
   "metadata": {},
   "source": [
    "ubuntu@ip-172-31-28-144:~/data/cellranger_analysis$ nohup ~/cellranger-3.1.0/cellranger count --nosecondary --id=treated --transcriptome=/home/ubuntu/refdata-cellranger-GRCh38-3.0.0/ --fastqs=/home/ubuntu/data/source/ --sample=TGF &\n",
    "\n",
    "ubuntu@ip-172-31-28-144:~/data/cellranger_analysis$ nohup ~/cellranger-3.1.0/cellranger count --nosecondary --id=control --transcriptome=/home/ubuntu/refdata-cellranger-GRCh38-3.0.0/ --fastqs=/home/ubuntu/data/source/ --sample=0-2 &"
   ]
  },
  {
   "cell_type": "markdown",
   "metadata": {},
   "source": [
    "# Step 4: Run dropEst on BAM files.\n",
    "\n",
    "A folder was created at `~/data/post_cellranger_analysis/` and the BAM files were created by cellranger for samples were put into `control` and `treated` subdirectories, respectively. A custom dropEst configuration file was created at ~/data/post_cellranger_analysis/config-10x-cellranger.xml as:"
   ]
  },
  {
   "cell_type": "raw",
   "metadata": {},
   "source": [
    "ubuntu@ip-172-31-28-144:~/data/cellranger_analysis$ cat ~/data/post_cellranger_analysis/config-10x-cellranger.xml\n",
    "\n",
    "<config>\n",
    "    <Estimation>\n",
    "        <Merge>\n",
    "            <min_merge_fraction>0.2</min_merge_fraction>\n",
    "            <max_cb_merge_edit_distance>2</max_cb_merge_edit_distance>\n",
    "            <max_umi_merge_edit_distance>1</max_umi_merge_edit_distance>\n",
    "            <min_genes_after_merge>100</min_genes_after_merge>\n",
    "            <min_genes_before_merge>20</min_genes_before_merge>\n",
    "        </Merge>\n",
    "        <PreciseMerge>\n",
    "            <max_merge_prob>1e-5</max_merge_prob>\n",
    "            <max_real_merge_prob>1e-7</max_real_merge_prob>\n",
    "        </PreciseMerge>\n",
    "        <BamTags>\n",
    "            <!-- Optional. Tags, which are used to parse .bam file (-f option) or to print tagged .bam file (-b or -F options). Default values correspond to 10x protocol. -->\n",
    "            <cb>CB</cb>\n",
    "            <!-- Cell barcode. Default: CB. -->\n",
    "            <cb_raw>CR</cb_raw>\n",
    "            <!-- Cell barcode raw. Used only for bam output. Default: CR. -->\n",
    "            <umi>UB</umi>\n",
    "            <!-- UMI. Default: UB. -->\n",
    "            <umi_raw>UR</umi_raw>\n",
    "            <!-- UMI raw. Used only for bam output. Default: UR. -->\n",
    "            <gene>GX</gene>\n",
    "            <!-- Gene id. Default: GX. -->\n",
    "            <cb_quality>CY</cb_quality>\n",
    "            <!-- Cell barcode quality. Default: CQ. -->\n",
    "            <umi_quality>UY</umi_quality>\n",
    "            <!-- UMI quality. Default: UQ. -->\n",
    "            <Type>\n",
    "                <!-- Tag, which contain type of read. If not specified, all reads with gene info are considered as exonic -->\n",
    "                <tag>RE</tag>\n",
    "                <intronic>N</intronic>\n",
    "                <!-- Value corresponding to intronic reads. Default value for bam output is INTRONIC. -->\n",
    "                <intergenic>I</intergenic>\n",
    "                <!-- Value corresponding to intergenic reads. All reads, which has gene id and intergenic mark are considered as intergenic. Default value for bam output is INTERGENIC. -->\n",
    "                <exonic>E</exonic>\n",
    "                <!-- Value corresponding to exonic reads. If not specified, all reads with other tags, which has gene id are considered as exonic. Default value for bam output is EXONIC. -->\n",
    "            </Type>\n",
    "        </BamTags>\n",
    "    </Estimation>\n",
    "</config>"
   ]
  }
 ],
 "metadata": {
  "kernelspec": {
   "display_name": "R",
   "language": "R",
   "name": "ir"
  },
  "language_info": {
   "codemirror_mode": "r",
   "file_extension": ".r",
   "mimetype": "text/x-r-source",
   "name": "R",
   "pygments_lexer": "r",
   "version": "3.6.1"
  }
 },
 "nbformat": 4,
 "nbformat_minor": 2
}
