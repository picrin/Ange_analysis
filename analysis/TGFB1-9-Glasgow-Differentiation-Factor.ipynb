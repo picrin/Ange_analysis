{
 "cells": [
  {
   "cell_type": "code",
   "execution_count": 24,
   "metadata": {},
   "outputs": [
    {
     "name": "stdout",
     "output_type": "stream",
     "text": [
      "scanpy==1.4 anndata==0.6.19 numpy==1.16.2 scipy==1.2.1 pandas==0.24.2 scikit-learn==0.20.3 statsmodels==0.9.0 python-igraph==0.7.1 louvain==0.6.1 \n"
     ]
    }
   ],
   "source": [
    "import numpy as np\n",
    "import numpy\n",
    "import pandas\n",
    "import scanpy\n",
    "import scanpy as sc\n",
    "import anndata\n",
    "import matplotlib.pyplot as plt\n",
    "%matplotlib inline\n",
    "\n",
    "import numpy as np\n",
    "import pandas as pd\n",
    "import scanpy as sc\n",
    "import scvelo as scv\n",
    "import math\n",
    "\n",
    "sc.settings.verbosity = 3             # verbosity: errors (0), warnings (1), info (2), hints (3)\n",
    "sc.logging.print_versions()"
   ]
  },
  {
   "cell_type": "markdown",
   "metadata": {},
   "source": [
    "# Simulating a single cell experiment"
   ]
  },
  {
   "cell_type": "markdown",
   "metadata": {},
   "source": [
    "1. `cell_no` – number of rows/cells.\n",
    "2. `gene_no` – number of columns/genes.\n",
    "3. We simulate count matrix by assuming it follows a hierarchical process: `poisson(lognormal(0, 0.1))`. This can be argued to make sense: poisson simulates the bead and lognormal simulates the true expression of a gene. Better models are possible (e.g. assuming different genes have different expression rates, etc.).\n",
    "4. We simulate velocity to follow a normal distribution with mu=0 and sigma=1."
   ]
  },
  {
   "cell_type": "code",
   "execution_count": 25,
   "metadata": {},
   "outputs": [],
   "source": [
    "def create_cell(gene_no, function, constants):\n",
    "    result = []\n",
    "    for i in range(gene_no):\n",
    "        result.append(function(*constants))\n",
    "    return numpy.array(result).reshape(1, -1)"
   ]
  },
  {
   "cell_type": "code",
   "execution_count": 26,
   "metadata": {},
   "outputs": [],
   "source": [
    "def create_experiment(cell_no, gene_no, function, constants):\n",
    "    experiment = numpy.zeros(shape=(cell_no, gene_no))\n",
    "    for i in range(cell_no):\n",
    "        experiment[i, :] = create_cell(gene_no, function, constants)\n",
    "    return experiment"
   ]
  },
  {
   "cell_type": "code",
   "execution_count": 27,
   "metadata": {},
   "outputs": [],
   "source": [
    "spliced = create_experiment(10, 5, lambda mu, sigma: numpy.random.poisson(numpy.random.lognormal(mu, sigma)), [0, 0.1])"
   ]
  },
  {
   "cell_type": "code",
   "execution_count": 55,
   "metadata": {},
   "outputs": [
    {
     "data": {
      "text/plain": [
       "array([[-1.7, -0.8, -1. , -0.5,  0.6],\n",
       "       [ 0.3,  0.2,  1. , -0.5,  0.6],\n",
       "       [ 3.3,  0.2, -1. , -0.5, -0.4],\n",
       "       [ 0.3, -0.8, -1. , -0.5, -0.4],\n",
       "       [-0.7,  1.2, -1. ,  0.5, -0.4],\n",
       "       [-1.7,  0.2,  3. , -0.5, -0.4],\n",
       "       [-1.7, -0.8,  1. ,  0.5, -0.4],\n",
       "       [ 0.3, -0.8, -1. ,  0.5,  0.6],\n",
       "       [ 1.3,  0.2,  1. ,  0.5,  0.6],\n",
       "       [ 0.3,  1.2, -1. ,  0.5, -0.4]])"
      ]
     },
     "execution_count": 55,
     "metadata": {},
     "output_type": "execute_result"
    }
   ],
   "source": [
    "spliced"
   ]
  },
  {
   "cell_type": "code",
   "execution_count": 29,
   "metadata": {},
   "outputs": [],
   "source": [
    "velocity = create_experiment(10, 5, numpy.random.normal, [0, 1])"
   ]
  },
  {
   "cell_type": "code",
   "execution_count": 30,
   "metadata": {},
   "outputs": [
    {
     "data": {
      "text/plain": [
       "array([[ 0.44573459,  0.6059187 , -0.71401792,  0.13301604,  0.7680323 ],\n",
       "       [ 1.60107362, -2.15161622,  1.71813552, -0.84793411, -0.21281697],\n",
       "       [-0.16458114, -0.39065831,  0.14993892,  0.64483054, -0.1122689 ],\n",
       "       [-0.14981758, -1.29116668, -0.23926406, -0.24160035,  2.18414811],\n",
       "       [ 0.5561335 ,  0.13717962,  0.92253728, -0.13738666,  0.4103502 ],\n",
       "       [ 0.61216821,  0.27124376,  0.80241954, -0.4035805 , -1.20106308],\n",
       "       [-0.36307614,  1.03037438,  1.06690707, -1.16013672,  0.30706453],\n",
       "       [-0.45224983,  0.14785464,  0.55516072,  0.23128902, -0.47998533],\n",
       "       [ 1.23345038, -0.62731917, -0.95702464, -1.56407154,  0.55981438],\n",
       "       [-0.2946836 ,  0.19449286, -0.3578592 ,  1.12562007, -2.70025398]])"
      ]
     },
     "execution_count": 30,
     "metadata": {},
     "output_type": "execute_result"
    }
   ],
   "source": [
    "velocity"
   ]
  },
  {
   "cell_type": "code",
   "execution_count": 31,
   "metadata": {},
   "outputs": [
    {
     "data": {
      "text/plain": [
       "(10, 5)"
      ]
     },
     "execution_count": 31,
     "metadata": {},
     "output_type": "execute_result"
    }
   ],
   "source": [
    "velocity.shape"
   ]
  },
  {
   "cell_type": "code",
   "execution_count": 32,
   "metadata": {},
   "outputs": [],
   "source": [
    "assert velocity.shape == spliced.shape"
   ]
  },
  {
   "cell_type": "markdown",
   "metadata": {},
   "source": [
    "That's how we can choose an example cell's velocity"
   ]
  },
  {
   "cell_type": "code",
   "execution_count": 33,
   "metadata": {},
   "outputs": [
    {
     "data": {
      "text/plain": [
       "array([-0.45224983,  0.14785464,  0.55516072,  0.23128902, -0.47998533])"
      ]
     },
     "execution_count": 33,
     "metadata": {},
     "output_type": "execute_result"
    }
   ],
   "source": [
    "example_velocity = velocity[-3, :]\n",
    "example_velocity"
   ]
  },
  {
   "cell_type": "markdown",
   "metadata": {},
   "source": [
    "And an example cell"
   ]
  },
  {
   "cell_type": "code",
   "execution_count": 34,
   "metadata": {},
   "outputs": [
    {
     "data": {
      "text/plain": [
       "array([2., 0., 0., 1., 1.])"
      ]
     },
     "execution_count": 34,
     "metadata": {},
     "output_type": "execute_result"
    }
   ],
   "source": [
    "example_cell = spliced[-3, :]\n",
    "example_cell"
   ]
  },
  {
   "cell_type": "markdown",
   "metadata": {},
   "source": [
    "# The next bit is some rather easy linear algebra\n",
    "\n",
    "We're just going to take a projection of velocity onto the position vector, and measure that. This will allow us to define and measure differentiation rate."
   ]
  },
  {
   "cell_type": "markdown",
   "metadata": {},
   "source": [
    "![velocity projection](https://trello-attachments.s3.amazonaws.com/5a982c9ba3afcf0a82b5b26c/5c84e116d5a3ed167f8ac28a/b4e329c442b2e809f7270ebf8ad8e07f/IMG_20190310_100347422.jpg)"
   ]
  },
  {
   "cell_type": "code",
   "execution_count": 35,
   "metadata": {},
   "outputs": [],
   "source": [
    "def project(velocity, position):\n",
    "    projection = numpy.dot(velocity, position)/numpy.linalg.norm(position)\n",
    "    projection_vector = position/numpy.linalg.norm(position)*projection\n",
    "    return projection, projection_vector"
   ]
  },
  {
   "cell_type": "markdown",
   "metadata": {},
   "source": [
    "Exercise. Plot the following vectors and their respective projections on a sheet of paper"
   ]
  },
  {
   "cell_type": "code",
   "execution_count": 36,
   "metadata": {},
   "outputs": [
    {
     "data": {
      "text/plain": [
       "(0.0, array([0., 0.]))"
      ]
     },
     "execution_count": 36,
     "metadata": {},
     "output_type": "execute_result"
    }
   ],
   "source": [
    "project([0, 1], [1, 0])"
   ]
  },
  {
   "cell_type": "code",
   "execution_count": 37,
   "metadata": {},
   "outputs": [
    {
     "data": {
      "text/plain": [
       "(0.1, array([0.1, 0. ]))"
      ]
     },
     "execution_count": 37,
     "metadata": {},
     "output_type": "execute_result"
    }
   ],
   "source": [
    "project([0.1, 1], [1, 0])"
   ]
  },
  {
   "cell_type": "code",
   "execution_count": 38,
   "metadata": {},
   "outputs": [
    {
     "data": {
      "text/plain": [
       "(0.09950371902099893, array([0.0990099 , 0.00990099]))"
      ]
     },
     "execution_count": 38,
     "metadata": {},
     "output_type": "execute_result"
    }
   ],
   "source": [
    "project([0, 1], [1, 0.1])"
   ]
  },
  {
   "cell_type": "code",
   "execution_count": 39,
   "metadata": {},
   "outputs": [
    {
     "data": {
      "text/plain": [
       "(1.414213562373095, array([1., 1.]))"
      ]
     },
     "execution_count": 39,
     "metadata": {},
     "output_type": "execute_result"
    }
   ],
   "source": [
    "project([1, 1], [2, 2])"
   ]
  },
  {
   "cell_type": "code",
   "execution_count": 40,
   "metadata": {},
   "outputs": [
    {
     "data": {
      "text/plain": [
       "(-1.414213562373095, array([-1., -1.]))"
      ]
     },
     "execution_count": 40,
     "metadata": {},
     "output_type": "execute_result"
    }
   ],
   "source": [
    "project([-1, -1], [2, 2])"
   ]
  },
  {
   "cell_type": "markdown",
   "metadata": {},
   "source": [
    "And that's how we can compute the projection for a single cell"
   ]
  },
  {
   "cell_type": "code",
   "execution_count": 41,
   "metadata": {},
   "outputs": [
    {
     "data": {
      "text/plain": [
       "(-0.4707902842615608,\n",
       " array([-0.38439866, -0.        , -0.        , -0.19219933, -0.19219933]))"
      ]
     },
     "execution_count": 41,
     "metadata": {},
     "output_type": "execute_result"
    }
   ],
   "source": [
    "project(velocity[-3, :], spliced[-3, :])"
   ]
  },
  {
   "cell_type": "markdown",
   "metadata": {},
   "source": [
    "We can now compute the ratio of average neutral velocity to average differentiation velocity. Let's call that \"differentiation factor\""
   ]
  },
  {
   "cell_type": "code",
   "execution_count": 42,
   "metadata": {},
   "outputs": [],
   "source": [
    "def compute_differentiation(spliced, velocity):\n",
    "    differentiation_speed = []\n",
    "    neutral_speed = []\n",
    "    for cell_no in range(velocity.shape[0]):\n",
    "        p = spliced[cell_no, :]\n",
    "        v = velocity[cell_no, :]\n",
    "        speed_away, velocity_away = project(v, p)\n",
    "        neutral = numpy.linalg.norm(v - velocity_away)\n",
    "        if not math.isnan(speed_away) and not math.isnan(neutral):\n",
    "            differentiation_speed.append(speed_away)\n",
    "            neutral_speed.append(neutral)\n",
    "    differentiation_factor = sum(differentiation_speed)/sum(neutral_speed)\n",
    "    return differentiation_factor, differentiation_speed, neutral_speed"
   ]
  },
  {
   "cell_type": "code",
   "execution_count": 43,
   "metadata": {},
   "outputs": [
    {
     "data": {
      "text/plain": [
       "(0.17711968398988806,\n",
       " [0.7680322997251404,\n",
       "  1.3515527551100148,\n",
       "  -0.2379994858746022,\n",
       "  -0.14981757542306112,\n",
       "  0.28295937357255313,\n",
       "  0.844247573589799,\n",
       "  0.4354417779535955,\n",
       "  -0.4707902842615608,\n",
       "  0.03868138529145562,\n",
       "  0.30841286585587585],\n",
       " [1.04562500818004,\n",
       "  3.0137131993172734,\n",
       "  0.7575945671833766,\n",
       "  2.559928199092803,\n",
       "  1.134184343215963,\n",
       "  1.4088562649416512,\n",
       "  1.8927183192270634,\n",
       "  0.7725486144074819,\n",
       "  2.3641152718666207,\n",
       "  2.9522877043067854])"
      ]
     },
     "execution_count": 43,
     "metadata": {},
     "output_type": "execute_result"
    }
   ],
   "source": [
    "compute_differentiation(spliced, velocity)"
   ]
  },
  {
   "cell_type": "markdown",
   "metadata": {},
   "source": [
    "# Centralising the experiment and computing the differentiation factor"
   ]
  },
  {
   "cell_type": "markdown",
   "metadata": {},
   "source": [
    "Before we can use this method we have to determine the correct origin. I suggest just using the most average cell as the origin. This can be achieved by recentrilising the entire experiment to put the hypothetical \"average cell\" in the middle. We don't have to touch the velocity vectors, because the transformation doesn't affect them."
   ]
  },
  {
   "cell_type": "code",
   "execution_count": 44,
   "metadata": {},
   "outputs": [],
   "source": [
    "def centralise_experiment(spliced):\n",
    "    average_cell = spliced.sum(0)/spliced.shape[0]\n",
    "    for i in range(spliced.shape[0]):\n",
    "        spliced[i, :] -= average_cell "
   ]
  },
  {
   "cell_type": "code",
   "execution_count": 45,
   "metadata": {},
   "outputs": [
    {
     "data": {
      "text/plain": [
       "array([[0., 0., 0., 0., 1.],\n",
       "       [2., 1., 2., 0., 1.],\n",
       "       [5., 1., 0., 0., 0.],\n",
       "       [2., 0., 0., 0., 0.],\n",
       "       [1., 2., 0., 1., 0.],\n",
       "       [0., 1., 4., 0., 0.],\n",
       "       [0., 0., 2., 1., 0.],\n",
       "       [2., 0., 0., 1., 1.],\n",
       "       [3., 1., 2., 1., 1.],\n",
       "       [2., 2., 0., 1., 0.]])"
      ]
     },
     "execution_count": 45,
     "metadata": {},
     "output_type": "execute_result"
    }
   ],
   "source": [
    "spliced"
   ]
  },
  {
   "cell_type": "code",
   "execution_count": 46,
   "metadata": {},
   "outputs": [],
   "source": [
    "centralise_experiment(spliced)"
   ]
  },
  {
   "cell_type": "code",
   "execution_count": 47,
   "metadata": {},
   "outputs": [
    {
     "data": {
      "text/plain": [
       "array([[-1.7, -0.8, -1. , -0.5,  0.6],\n",
       "       [ 0.3,  0.2,  1. , -0.5,  0.6],\n",
       "       [ 3.3,  0.2, -1. , -0.5, -0.4],\n",
       "       [ 0.3, -0.8, -1. , -0.5, -0.4],\n",
       "       [-0.7,  1.2, -1. ,  0.5, -0.4],\n",
       "       [-1.7,  0.2,  3. , -0.5, -0.4],\n",
       "       [-1.7, -0.8,  1. ,  0.5, -0.4],\n",
       "       [ 0.3, -0.8, -1. ,  0.5,  0.6],\n",
       "       [ 1.3,  0.2,  1. ,  0.5,  0.6],\n",
       "       [ 0.3,  1.2, -1. ,  0.5, -0.4]])"
      ]
     },
     "execution_count": 47,
     "metadata": {},
     "output_type": "execute_result"
    }
   ],
   "source": [
    "spliced"
   ]
  },
  {
   "cell_type": "markdown",
   "metadata": {
    "collapsed": true
   },
   "source": [
    "Now we can compute the differentiation factor"
   ]
  },
  {
   "cell_type": "code",
   "execution_count": 52,
   "metadata": {},
   "outputs": [],
   "source": [
    "differentiation_factor, neutral_velocity, differentiation_velocity = compute_differentiation(spliced, velocity)"
   ]
  },
  {
   "cell_type": "code",
   "execution_count": 54,
   "metadata": {},
   "outputs": [
    {
     "data": {
      "text/plain": [
       "[1.2960338832613452,\n",
       " 2.908583048641494,\n",
       " 0.7358474358823515,\n",
       " 2.543720642655112,\n",
       " 0.8923117911729432,\n",
       " 1.5294512654201575,\n",
       " 1.9408776714093954,\n",
       " 0.6378233263704556,\n",
       " 2.3640769597362605,\n",
       " 2.6916615003080415]"
      ]
     },
     "execution_count": 54,
     "metadata": {},
     "output_type": "execute_result"
    }
   ],
   "source": [
    "differentiation_velocity"
   ]
  },
  {
   "cell_type": "code",
   "execution_count": 49,
   "metadata": {},
   "outputs": [
    {
     "data": {
      "text/plain": [
       "0.1195268205996057"
      ]
     },
     "execution_count": 49,
     "metadata": {},
     "output_type": "execute_result"
    }
   ],
   "source": [
    "differentiation_factor"
   ]
  },
  {
   "cell_type": "code",
   "execution_count": 50,
   "metadata": {},
   "outputs": [
    {
     "data": {
      "image/png": "[encoded data removed]",
      "text/plain": [
       "<Figure size 432x288 with 1 Axes>"
      ]
     },
     "metadata": {
      "needs_background": "light"
     },
     "output_type": "display_data"
    }
   ],
   "source": [
    "_ = plt.hist(neutral_velocity)"
   ]
  },
  {
   "cell_type": "code",
   "execution_count": 51,
   "metadata": {},
   "outputs": [
    {
     "data": {
      "image/png": "[encoded data removed]",
      "text/plain": [
       "<Figure size 432x288 with 1 Axes>"
      ]
     },
     "metadata": {
      "needs_background": "light"
     },
     "output_type": "display_data"
    }
   ],
   "source": [
    "_ = plt.hist(differentiation_velocity)"
   ]
  },
  {
   "cell_type": "markdown",
   "metadata": {},
   "source": [
    "# Load real data"
   ]
  },
  {
   "cell_type": "code",
   "execution_count": 65,
   "metadata": {},
   "outputs": [],
   "source": [
    "nontreated = anndata.read('./write/tgfb1-4-nontreated.h5ad')\n",
    "treated = anndata.read('./write/tgfb1-4-treated.h5ad')"
   ]
  },
  {
   "cell_type": "code",
   "execution_count": 66,
   "metadata": {},
   "outputs": [
    {
     "data": {
      "text/plain": [
       "array([[-7.2432391e-02,  4.8633245e-01,  2.3916863e-02, ...,\n",
       "         1.6679680e-01, -4.0003911e-02, -5.2141841e-03],\n",
       "       [-3.4792203e-02,  2.3011541e-01,  1.4387268e-01, ...,\n",
       "         6.2580991e-01,  1.9335359e-02, -2.5362410e-02],\n",
       "       [-2.6616171e-02,  3.4497797e-01, -4.0267274e-02, ...,\n",
       "         8.6336195e-01, -1.1595387e-02,  2.9154219e-02],\n",
       "       ...,\n",
       "       [ 1.5671019e-02,  2.3179209e-01, -1.2238444e-01, ...,\n",
       "         1.3270764e+00,  8.1752896e-02, -1.0937009e-02],\n",
       "       [-6.6944212e-03,  8.1253719e-01,  3.3969954e-02, ...,\n",
       "         3.8113803e-01,  1.4834253e-02, -4.3653697e-03],\n",
       "       [-5.3318933e-02,  3.3234382e-01, -8.6442456e-02, ...,\n",
       "         2.5669831e-01, -8.6688437e-04, -3.6018688e-02]], dtype=float32)"
      ]
     },
     "execution_count": 66,
     "metadata": {},
     "output_type": "execute_result"
    }
   ],
   "source": [
    "nontreated.layers[\"velocity\"]"
   ]
  },
  {
   "cell_type": "code",
   "execution_count": 69,
   "metadata": {},
   "outputs": [
    {
     "data": {
      "text/plain": [
       "array([[-0.35160404, -0.34098488, -0.34135342, ..., -0.385918  ,\n",
       "        -0.19616847, -0.2635155 ],\n",
       "       [ 0.8390683 , -0.35592675, -0.375597  , ..., -0.4207429 ,\n",
       "        -0.19581833, -0.27672628],\n",
       "       [-0.33248052, -0.33634934, -0.33072972, ..., -0.37511393,\n",
       "        -0.1962771 , -0.25941703],\n",
       "       ...,\n",
       "       [-0.30286762, -0.32917118, -0.3142789 , ..., -0.35838383,\n",
       "        -0.1964453 , -0.2530705 ],\n",
       "       [ 0.97417516, -0.3521484 ,  2.012618  , ...,  1.764557  ,\n",
       "        -0.19590688, -0.27338567],\n",
       "       [ 4.721907  , -0.34051672,  1.588449  , ..., -0.38482684,\n",
       "        -0.19617943, -0.26310158]], dtype=float32)"
      ]
     },
     "execution_count": 69,
     "metadata": {},
     "output_type": "execute_result"
    }
   ],
   "source": [
    "nontreated.X"
   ]
  },
  {
   "cell_type": "code",
   "execution_count": 75,
   "metadata": {},
   "outputs": [],
   "source": [
    "control_df, control_neutral_velocity, control_differentiation_velocity = compute_differentiation(nontreated.X, nontreated.layers[\"velocity\"])"
   ]
  },
  {
   "cell_type": "code",
   "execution_count": 76,
   "metadata": {},
   "outputs": [],
   "source": [
    "treated_df, treated_neutral_velocity, treated_differentiation_velocity = compute_differentiation(treated.X, treated.layers[\"velocity\"])"
   ]
  },
  {
   "cell_type": "code",
   "execution_count": 84,
   "metadata": {},
   "outputs": [
    {
     "data": {
      "image/png": "[encoded data removed]",
      "text/plain": [
       "<Figure size 432x288 with 1 Axes>"
      ]
     },
     "metadata": {
      "needs_background": "light"
     },
     "output_type": "display_data"
    }
   ],
   "source": [
    "bf = plt.figure()\n",
    "_ = plt.hist(control_differentiation_velocity, bins=100, color=\"blue\")\n",
    "_ = plt.hist(treated_differentiation_velocity, bins=100, color=\"red\")"
   ]
  },
  {
   "cell_type": "code",
   "execution_count": 85,
   "metadata": {},
   "outputs": [
    {
     "data": {
      "image/png": "[encoded data removed]",
      "text/plain": [
       "<Figure size 432x288 with 1 Axes>"
      ]
     },
     "metadata": {
      "needs_background": "light"
     },
     "output_type": "display_data"
    }
   ],
   "source": [
    "f = plt.figure()\n",
    "_ = plt.hist(control_neutral_velocity, bins=100, color=\"blue\")\n",
    "_ = plt.hist(treated_neutral_velocity, bins=100, color=\"red\")"
   ]
  },
  {
   "cell_type": "code",
   "execution_count": 86,
   "metadata": {},
   "outputs": [
    {
     "data": {
      "text/plain": [
       "-0.016848141365310383"
      ]
     },
     "execution_count": 86,
     "metadata": {},
     "output_type": "execute_result"
    }
   ],
   "source": [
    "control_df"
   ]
  },
  {
   "cell_type": "code",
   "execution_count": 87,
   "metadata": {},
   "outputs": [
    {
     "data": {
      "text/plain": [
       "-0.016958773425447562"
      ]
     },
     "execution_count": 87,
     "metadata": {},
     "output_type": "execute_result"
    }
   ],
   "source": [
    "treated_df"
   ]
  },
  {
   "cell_type": "code",
   "execution_count": null,
   "metadata": {},
   "outputs": [],
   "source": []
  }
 ],
 "metadata": {
  "kernelspec": {
   "display_name": "Python 3",
   "language": "python",
   "name": "python3"
  },
  "language_info": {
   "codemirror_mode": {
    "name": "ipython",
    "version": 3
   },
   "file_extension": ".py",
   "mimetype": "text/x-python",
   "name": "python",
   "nbconvert_exporter": "python",
   "pygments_lexer": "ipython3",
   "version": "3.6.7"
  }
 },
 "nbformat": 4,
 "nbformat_minor": 2
}
