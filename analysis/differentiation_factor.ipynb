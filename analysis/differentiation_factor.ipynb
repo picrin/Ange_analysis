{
 "cells": [
  {
   "cell_type": "markdown",
   "metadata": {},
   "source": [
    "# Murder weapons"
   ]
  },
  {
   "cell_type": "code",
   "execution_count": 1,
   "metadata": {
    "collapsed": true
   },
   "outputs": [],
   "source": [
    "import numpy\n",
    "import math\n",
    "import matplotlib.pyplot as plt\n",
    "%matplotlib inline"
   ]
  },
  {
   "cell_type": "markdown",
   "metadata": {},
   "source": [
    "# Simulating a single cell experiment"
   ]
  },
  {
   "cell_type": "markdown",
   "metadata": {},
   "source": [
    "1. `cell_no` – number of rows/cells.\n",
    "2. `gene_no` – number of columns/genes.\n",
    "3. We simulate count matrix by assuming it follows a hierarchical process: `poisson(lognormal(0, 0.1))`. This can be argued to make sense: poisson simulates the bead and lognormal simulates the true expression of a gene. Better models are possible (e.g. assuming different genes have different expression rates, etc.).\n",
    "4. We simulate velocity to follow a normal distribution with mu=0 and sigma=1."
   ]
  },
  {
   "cell_type": "code",
   "execution_count": 2,
   "metadata": {
    "collapsed": true
   },
   "outputs": [],
   "source": [
    "def create_cell(gene_no, function, constants):\n",
    "    result = []\n",
    "    for i in range(gene_no):\n",
    "        result.append(function(*constants))\n",
    "    return numpy.array(result).reshape(1, -1)"
   ]
  },
  {
   "cell_type": "code",
   "execution_count": 3,
   "metadata": {
    "collapsed": true
   },
   "outputs": [],
   "source": [
    "def create_experiment(cell_no, gene_no, function, constants):\n",
    "    experiment = numpy.zeros(shape=(cell_no, gene_no))\n",
    "    for i in range(cell_no):\n",
    "        experiment[i, :] = create_cell(gene_no, function, constants)\n",
    "    return experiment"
   ]
  },
  {
   "cell_type": "code",
   "execution_count": 4,
   "metadata": {
    "collapsed": true
   },
   "outputs": [],
   "source": [
    "spliced = create_experiment(10, 5, lambda mu, sigma: numpy.random.poisson(numpy.random.lognormal(mu, sigma)), [0, 0.1])"
   ]
  },
  {
   "cell_type": "code",
   "execution_count": 5,
   "metadata": {},
   "outputs": [
    {
     "data": {
      "text/plain": [
       "array([[3., 2., 0., 1., 1.],\n",
       "       [1., 1., 0., 1., 1.],\n",
       "       [2., 0., 4., 1., 0.],\n",
       "       [1., 1., 0., 0., 2.],\n",
       "       [1., 0., 1., 4., 3.],\n",
       "       [2., 1., 1., 0., 0.],\n",
       "       [2., 0., 1., 0., 2.],\n",
       "       [0., 0., 2., 0., 1.],\n",
       "       [1., 2., 0., 1., 1.],\n",
       "       [1., 0., 1., 1., 2.]])"
      ]
     },
     "execution_count": 5,
     "metadata": {},
     "output_type": "execute_result"
    }
   ],
   "source": [
    "spliced"
   ]
  },
  {
   "cell_type": "code",
   "execution_count": 6,
   "metadata": {
    "collapsed": true
   },
   "outputs": [],
   "source": [
    "velocity = create_experiment(10, 5, numpy.random.normal, [0, 1])"
   ]
  },
  {
   "cell_type": "code",
   "execution_count": 7,
   "metadata": {},
   "outputs": [
    {
     "data": {
      "text/plain": [
       "array([[-0.19585515, -1.62767518, -0.92864411, -1.42506283, -1.085625  ],\n",
       "       [-0.39403728, -0.48305067,  2.39081933,  0.97891646,  0.16151852],\n",
       "       [ 0.5773867 ,  0.31571615, -1.76239988, -0.69381176, -0.62948646],\n",
       "       [ 1.59264663, -1.41845211,  0.36170352, -1.70891529, -1.25944151],\n",
       "       [ 1.85909323,  0.73841994,  1.7166185 , -0.92263786, -0.37145278],\n",
       "       [-1.39729781, -0.36981772, -0.57272871, -0.21779362,  0.42180965],\n",
       "       [-0.09907528,  0.04676743,  0.46324327,  0.35759808, -0.4231817 ],\n",
       "       [-2.18986437, -0.79917408,  0.98476686,  1.37432064, -0.09766016],\n",
       "       [ 0.11839092,  0.90758859,  1.10419729,  1.72601304,  0.93984813],\n",
       "       [-0.83095131,  0.08632134,  1.6172398 ,  0.34832619, -1.18357335]])"
      ]
     },
     "execution_count": 7,
     "metadata": {},
     "output_type": "execute_result"
    }
   ],
   "source": [
    "velocity"
   ]
  },
  {
   "cell_type": "code",
   "execution_count": 8,
   "metadata": {},
   "outputs": [
    {
     "data": {
      "text/plain": [
       "(10, 5)"
      ]
     },
     "execution_count": 8,
     "metadata": {},
     "output_type": "execute_result"
    }
   ],
   "source": [
    "velocity.shape"
   ]
  },
  {
   "cell_type": "code",
   "execution_count": 9,
   "metadata": {
    "collapsed": true
   },
   "outputs": [],
   "source": [
    "assert velocity.shape == spliced.shape"
   ]
  },
  {
   "cell_type": "markdown",
   "metadata": {},
   "source": [
    "That's how we can choose an example cell's velocity"
   ]
  },
  {
   "cell_type": "code",
   "execution_count": 10,
   "metadata": {},
   "outputs": [
    {
     "data": {
      "text/plain": [
       "array([-2.18986437, -0.79917408,  0.98476686,  1.37432064, -0.09766016])"
      ]
     },
     "execution_count": 10,
     "metadata": {},
     "output_type": "execute_result"
    }
   ],
   "source": [
    "example_velocity = velocity[-3, :]\n",
    "example_velocity"
   ]
  },
  {
   "cell_type": "markdown",
   "metadata": {},
   "source": [
    "And an example cell"
   ]
  },
  {
   "cell_type": "code",
   "execution_count": 11,
   "metadata": {},
   "outputs": [
    {
     "data": {
      "text/plain": [
       "array([0., 0., 2., 0., 1.])"
      ]
     },
     "execution_count": 11,
     "metadata": {},
     "output_type": "execute_result"
    }
   ],
   "source": [
    "example_cell = spliced[-3, :]\n",
    "example_cell"
   ]
  },
  {
   "cell_type": "markdown",
   "metadata": {},
   "source": [
    "# The next bit is some rather easy linear algebra\n",
    "\n",
    "We're just going to take a projection of velocity onto the position vector, and measure that. This will allow us to define and measure differentiation rate."
   ]
  },
  {
   "cell_type": "markdown",
   "metadata": {},
   "source": [
    "![velocity projection](https://trello-attachments.s3.amazonaws.com/5a982c9ba3afcf0a82b5b26c/5c84e116d5a3ed167f8ac28a/b4e329c442b2e809f7270ebf8ad8e07f/IMG_20190310_100347422.jpg)"
   ]
  },
  {
   "cell_type": "code",
   "execution_count": 12,
   "metadata": {
    "collapsed": true
   },
   "outputs": [],
   "source": [
    "def project(velocity, position):\n",
    "    projection = numpy.dot(velocity, position)/numpy.linalg.norm(position)\n",
    "    projection_vector = position/numpy.linalg.norm(position)*projection\n",
    "    return projection, projection_vector"
   ]
  },
  {
   "cell_type": "markdown",
   "metadata": {},
   "source": [
    "Exercise. Plot the following vectors and their respective projections on a sheet of paper"
   ]
  },
  {
   "cell_type": "code",
   "execution_count": 13,
   "metadata": {},
   "outputs": [
    {
     "data": {
      "text/plain": [
       "(0.0, array([0., 0.]))"
      ]
     },
     "execution_count": 13,
     "metadata": {},
     "output_type": "execute_result"
    }
   ],
   "source": [
    "project([0, 1], [1, 0])"
   ]
  },
  {
   "cell_type": "code",
   "execution_count": 14,
   "metadata": {},
   "outputs": [
    {
     "data": {
      "text/plain": [
       "(0.1, array([0.1, 0. ]))"
      ]
     },
     "execution_count": 14,
     "metadata": {},
     "output_type": "execute_result"
    }
   ],
   "source": [
    "project([0.1, 1], [1, 0])"
   ]
  },
  {
   "cell_type": "code",
   "execution_count": 15,
   "metadata": {},
   "outputs": [
    {
     "data": {
      "text/plain": [
       "(0.09950371902099893, array([0.0990099 , 0.00990099]))"
      ]
     },
     "execution_count": 15,
     "metadata": {},
     "output_type": "execute_result"
    }
   ],
   "source": [
    "project([0, 1], [1, 0.1])"
   ]
  },
  {
   "cell_type": "code",
   "execution_count": 16,
   "metadata": {},
   "outputs": [
    {
     "data": {
      "text/plain": [
       "(1.414213562373095, array([1., 1.]))"
      ]
     },
     "execution_count": 16,
     "metadata": {},
     "output_type": "execute_result"
    }
   ],
   "source": [
    "project([1, 1], [2, 2])"
   ]
  },
  {
   "cell_type": "code",
   "execution_count": 17,
   "metadata": {},
   "outputs": [
    {
     "data": {
      "text/plain": [
       "(-1.414213562373095, array([-1., -1.]))"
      ]
     },
     "execution_count": 17,
     "metadata": {},
     "output_type": "execute_result"
    }
   ],
   "source": [
    "project([-1, -1], [2, 2])"
   ]
  },
  {
   "cell_type": "markdown",
   "metadata": {},
   "source": [
    "And that's how we can compute the projection for a single cell"
   ]
  },
  {
   "cell_type": "code",
   "execution_count": 18,
   "metadata": {},
   "outputs": [
    {
     "data": {
      "text/plain": [
       "(0.837127304023818,\n",
       " array([0.        , 0.        , 0.74874942, 0.        , 0.37437471]))"
      ]
     },
     "execution_count": 18,
     "metadata": {},
     "output_type": "execute_result"
    }
   ],
   "source": [
    "project(velocity[-3, :], spliced[-3, :])"
   ]
  },
  {
   "cell_type": "markdown",
   "metadata": {},
   "source": [
    "We can now compute the ratio of average neutral velocity to average differentiation velocity. Let's call that \"differentiation factor\""
   ]
  },
  {
   "cell_type": "code",
   "execution_count": 19,
   "metadata": {
    "collapsed": true
   },
   "outputs": [],
   "source": [
    "def compute_differentiation(spliced, velocity):\n",
    "    differentiation_speed = []\n",
    "    neutral_speed = []\n",
    "    for cell_no in range(velocity.shape[0]):\n",
    "        p = spliced[cell_no, :]\n",
    "        v = velocity[cell_no, :]\n",
    "        speed_away, velocity_away = project(v, p)\n",
    "        neutral = numpy.linalg.norm(v - velocity_away)\n",
    "        if not math.isnan(speed_away) and not math.isnan(neutral):\n",
    "            differentiation_speed.append(speed_away)\n",
    "            neutral_speed.append(neutral)\n",
    "    differentiation_factor = sum([abs(x) for x in differentiation_speed])/sum(neutral_speed)\n",
    "    return differentiation_factor, differentiation_speed, neutral_speed"
   ]
  },
  {
   "cell_type": "code",
   "execution_count": 20,
   "metadata": {},
   "outputs": [
    {
     "data": {
      "text/plain": [
       "(0.4636535548743081,\n",
       " [-1.640493404158834,\n",
       "  0.13167351504506486,\n",
       "  -1.4377586564311717,\n",
       "  -0.9572150744479446,\n",
       "  -0.23655927447344174,\n",
       "  -1.525681853529556,\n",
       "  -0.19375689928069126,\n",
       "  0.837127304023818,\n",
       "  1.7384208579580938,\n",
       "  -0.46585331867331786],\n",
       " [2.0169860482731363,\n",
       "  2.6592570672512736,\n",
       "  1.5328350926675829,\n",
       "  2.8757056181453065,\n",
       "  2.807409521848538,\n",
       "  0.5611388582265238,\n",
       "  0.7042832042623575,\n",
       "  2.7570751755145273,\n",
       "  1.7021496892475785,\n",
       "  2.1490820639407957])"
      ]
     },
     "execution_count": 20,
     "metadata": {},
     "output_type": "execute_result"
    }
   ],
   "source": [
    "compute_differentiation(spliced, velocity)"
   ]
  },
  {
   "cell_type": "markdown",
   "metadata": {},
   "source": [
    "# Centralising the experiment and computing the differentiation factor"
   ]
  },
  {
   "cell_type": "markdown",
   "metadata": {},
   "source": [
    "Before we can use this method we have to determine the correct origin. I suggest just using the most average cell as the origin. This can be achieved by recentrilising the entire experiment to put the hypothetical \"average cell\" in the middle. We don't have to touch the velocity vectors, because the transformation doesn't affect them."
   ]
  },
  {
   "cell_type": "code",
   "execution_count": 21,
   "metadata": {
    "collapsed": true
   },
   "outputs": [],
   "source": [
    "def centralise_experiment(spliced):\n",
    "    average_cell = spliced.sum(0)/spliced.shape[0]\n",
    "    for i in range(spliced.shape[0]):\n",
    "        spliced[i, :] -= average_cell "
   ]
  },
  {
   "cell_type": "code",
   "execution_count": 22,
   "metadata": {},
   "outputs": [
    {
     "data": {
      "text/plain": [
       "array([[3., 2., 0., 1., 1.],\n",
       "       [1., 1., 0., 1., 1.],\n",
       "       [2., 0., 4., 1., 0.],\n",
       "       [1., 1., 0., 0., 2.],\n",
       "       [1., 0., 1., 4., 3.],\n",
       "       [2., 1., 1., 0., 0.],\n",
       "       [2., 0., 1., 0., 2.],\n",
       "       [0., 0., 2., 0., 1.],\n",
       "       [1., 2., 0., 1., 1.],\n",
       "       [1., 0., 1., 1., 2.]])"
      ]
     },
     "execution_count": 22,
     "metadata": {},
     "output_type": "execute_result"
    }
   ],
   "source": [
    "spliced"
   ]
  },
  {
   "cell_type": "code",
   "execution_count": 23,
   "metadata": {
    "collapsed": true
   },
   "outputs": [],
   "source": [
    "centralise_experiment(spliced)"
   ]
  },
  {
   "cell_type": "code",
   "execution_count": 24,
   "metadata": {},
   "outputs": [
    {
     "data": {
      "text/plain": [
       "array([[ 1.6,  1.3, -1. ,  0.1, -0.3],\n",
       "       [-0.4,  0.3, -1. ,  0.1, -0.3],\n",
       "       [ 0.6, -0.7,  3. ,  0.1, -1.3],\n",
       "       [-0.4,  0.3, -1. , -0.9,  0.7],\n",
       "       [-0.4, -0.7,  0. ,  3.1,  1.7],\n",
       "       [ 0.6,  0.3,  0. , -0.9, -1.3],\n",
       "       [ 0.6, -0.7,  0. , -0.9,  0.7],\n",
       "       [-1.4, -0.7,  1. , -0.9, -0.3],\n",
       "       [-0.4,  1.3, -1. ,  0.1, -0.3],\n",
       "       [-0.4, -0.7,  0. ,  0.1,  0.7]])"
      ]
     },
     "execution_count": 24,
     "metadata": {},
     "output_type": "execute_result"
    }
   ],
   "source": [
    "spliced"
   ]
  },
  {
   "cell_type": "markdown",
   "metadata": {
    "collapsed": true
   },
   "source": [
    "Now we can compute the differentiation factor"
   ]
  },
  {
   "cell_type": "code",
   "execution_count": 25,
   "metadata": {
    "collapsed": true
   },
   "outputs": [],
   "source": [
    "differentiation_factor, neutral_velocity, differentiation_velocity = compute_differentiation(spliced, velocity)"
   ]
  },
  {
   "cell_type": "code",
   "execution_count": 26,
   "metadata": {},
   "outputs": [
    {
     "data": {
      "text/plain": [
       "0.44540551830080455"
      ]
     },
     "execution_count": 26,
     "metadata": {},
     "output_type": "execute_result"
    }
   ],
   "source": [
    "differentiation_factor"
   ]
  },
  {
   "cell_type": "code",
   "execution_count": 27,
   "metadata": {},
   "outputs": [
    {
     "data": {
      "image/png": "[encoded data removed]",
      "text/plain": [
       "<Figure size 432x288 with 1 Axes>"
      ]
     },
     "metadata": {},
     "output_type": "display_data"
    }
   ],
   "source": [
    "_ = plt.hist(neutral_velocity)"
   ]
  },
  {
   "cell_type": "code",
   "execution_count": 28,
   "metadata": {},
   "outputs": [
    {
     "data": {
      "image/png": "[encoded data removed]",
      "text/plain": [
       "<Figure size 432x288 with 1 Axes>"
      ]
     },
     "metadata": {},
     "output_type": "display_data"
    }
   ],
   "source": [
    "_ = plt.hist(differentiation_velocity)"
   ]
  }
 ],
 "metadata": {
  "kernelspec": {
   "display_name": "Python 3 Clinical Applicatoins",
   "language": "python",
   "name": "clinical_applications"
  },
  "language_info": {
   "codemirror_mode": {
    "name": "ipython",
    "version": 3
   },
   "file_extension": ".py",
   "mimetype": "text/x-python",
   "name": "python",
   "nbconvert_exporter": "python",
   "pygments_lexer": "ipython3",
   "version": "3.5.2"
  }
 },
 "nbformat": 4,
 "nbformat_minor": 2
}
