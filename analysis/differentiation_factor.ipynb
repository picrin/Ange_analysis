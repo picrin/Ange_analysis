{
 "cells": [
  {
   "cell_type": "markdown",
   "metadata": {},
   "source": [
    "# Murder weapons"
   ]
  },
  {
   "cell_type": "code",
   "execution_count": 1,
   "metadata": {
    "collapsed": true
   },
   "outputs": [],
   "source": [
    "import numpy\n",
    "import math\n",
    "import matplotlib.pyplot as plt\n",
    "%matplotlib inline"
   ]
  },
  {
   "cell_type": "markdown",
   "metadata": {},
   "source": [
    "# Simulating a single cell experiment"
   ]
  },
  {
   "cell_type": "markdown",
   "metadata": {},
   "source": [
    "1. `cell_no` – number of rows/cells.\n",
    "2. `gene_no` – number of columns/genes.\n",
    "3. We simulate count matrix by assuming it follows a hierarchical process: `poisson(lognormal(0, 0.1))`. This can be argued to make sense: poisson simulates the bead and lognormal simulates the true expression of a gene. Better models are possible (e.g. assuming different genes have different expression rates, etc.).\n",
    "4. We simulate velocity to follow a normal distribution with mu=0 and sigma=1."
   ]
  },
  {
   "cell_type": "code",
   "execution_count": 2,
   "metadata": {
    "collapsed": true
   },
   "outputs": [],
   "source": [
    "def create_cell(gene_no, function, constants):\n",
    "    result = []\n",
    "    for i in range(gene_no):\n",
    "        result.append(function(*constants))\n",
    "    return numpy.array(result).reshape(1, -1)"
   ]
  },
  {
   "cell_type": "code",
   "execution_count": 3,
   "metadata": {
    "collapsed": true
   },
   "outputs": [],
   "source": [
    "def create_experiment(cell_no, gene_no, function, constants):\n",
    "    experiment = numpy.zeros(shape=(cell_no, gene_no))\n",
    "    for i in range(cell_no):\n",
    "        experiment[i, :] = create_cell(gene_no, function, constants)\n",
    "    return experiment"
   ]
  },
  {
   "cell_type": "code",
   "execution_count": 4,
   "metadata": {
    "collapsed": true
   },
   "outputs": [],
   "source": [
    "spliced = create_experiment(10, 5, lambda mu, sigma: numpy.random.poisson(numpy.random.lognormal(mu, sigma)), [0, 0.1])"
   ]
  },
  {
   "cell_type": "code",
   "execution_count": 5,
   "metadata": {},
   "outputs": [
    {
     "data": {
      "text/plain": [
       "array([[1., 2., 2., 2., 0.],\n",
       "       [2., 0., 0., 0., 0.],\n",
       "       [1., 1., 0., 1., 3.],\n",
       "       [3., 0., 1., 1., 1.],\n",
       "       [0., 1., 3., 0., 0.],\n",
       "       [1., 1., 2., 1., 0.],\n",
       "       [1., 0., 2., 2., 1.],\n",
       "       [2., 1., 0., 2., 0.],\n",
       "       [1., 0., 2., 0., 1.],\n",
       "       [1., 2., 1., 2., 2.]])"
      ]
     },
     "execution_count": 5,
     "metadata": {},
     "output_type": "execute_result"
    }
   ],
   "source": [
    "spliced"
   ]
  },
  {
   "cell_type": "code",
   "execution_count": 6,
   "metadata": {
    "collapsed": true
   },
   "outputs": [],
   "source": [
    "velocity = create_experiment(10, 5, numpy.random.normal, [0, 1])"
   ]
  },
  {
   "cell_type": "code",
   "execution_count": 7,
   "metadata": {},
   "outputs": [
    {
     "data": {
      "text/plain": [
       "array([[-0.72395039,  1.57685825,  0.13019084,  0.3887    , -0.08607989],\n",
       "       [ 0.07636725,  0.02169475,  0.51520887, -0.08464432,  1.67920855],\n",
       "       [ 1.49420494,  0.55082708,  1.93453047,  2.03647768,  0.4997926 ],\n",
       "       [-0.74407833, -1.79895415,  0.94388508, -0.53813731, -1.93029976],\n",
       "       [-0.02659629,  1.00188959,  1.62012428, -1.29228491,  0.41084015],\n",
       "       [-1.10345984,  0.20371707, -0.49831937,  0.52396482,  0.14300549],\n",
       "       [-0.80645831, -0.59706166, -0.06778467,  1.11930581,  0.14598234],\n",
       "       [ 1.4925393 , -0.82823596, -0.11844961,  0.77816293,  1.14807535],\n",
       "       [ 1.05776249,  2.59436553, -0.82322248, -1.5835008 , -0.18729042],\n",
       "       [-0.44549102,  0.90722949, -0.5459322 , -0.60215924,  0.62230169]])"
      ]
     },
     "execution_count": 7,
     "metadata": {},
     "output_type": "execute_result"
    }
   ],
   "source": [
    "velocity"
   ]
  },
  {
   "cell_type": "code",
   "execution_count": 8,
   "metadata": {},
   "outputs": [
    {
     "data": {
      "text/plain": [
       "(10, 5)"
      ]
     },
     "execution_count": 8,
     "metadata": {},
     "output_type": "execute_result"
    }
   ],
   "source": [
    "velocity.shape"
   ]
  },
  {
   "cell_type": "code",
   "execution_count": 9,
   "metadata": {
    "collapsed": true
   },
   "outputs": [],
   "source": [
    "assert velocity.shape == spliced.shape"
   ]
  },
  {
   "cell_type": "markdown",
   "metadata": {},
   "source": [
    "That's how we can choose an example cell's velocity"
   ]
  },
  {
   "cell_type": "code",
   "execution_count": 10,
   "metadata": {},
   "outputs": [
    {
     "data": {
      "text/plain": [
       "array([ 1.4925393 , -0.82823596, -0.11844961,  0.77816293,  1.14807535])"
      ]
     },
     "execution_count": 10,
     "metadata": {},
     "output_type": "execute_result"
    }
   ],
   "source": [
    "example_velocity = velocity[-3, :]\n",
    "example_velocity"
   ]
  },
  {
   "cell_type": "markdown",
   "metadata": {},
   "source": [
    "And an example cell"
   ]
  },
  {
   "cell_type": "code",
   "execution_count": 11,
   "metadata": {},
   "outputs": [
    {
     "data": {
      "text/plain": [
       "array([2., 1., 0., 2., 0.])"
      ]
     },
     "execution_count": 11,
     "metadata": {},
     "output_type": "execute_result"
    }
   ],
   "source": [
    "example_cell = spliced[-3, :]\n",
    "example_cell"
   ]
  },
  {
   "cell_type": "markdown",
   "metadata": {},
   "source": [
    "# The next bit is some rather easy linear algebra\n",
    "\n",
    "We're just going to take a projection of velocity onto the position vector, and measure that. This will allow us to define and measure differentiation rate."
   ]
  },
  {
   "cell_type": "markdown",
   "metadata": {},
   "source": [
    "![velocity projection](https://trello-attachments.s3.amazonaws.com/5a982c9ba3afcf0a82b5b26c/5c84e116d5a3ed167f8ac28a/b4e329c442b2e809f7270ebf8ad8e07f/IMG_20190310_100347422.jpg)"
   ]
  },
  {
   "cell_type": "code",
   "execution_count": 12,
   "metadata": {
    "collapsed": true
   },
   "outputs": [],
   "source": [
    "def project(velocity, position):\n",
    "    projection = numpy.dot(velocity, position)/numpy.linalg.norm(position)\n",
    "    projection_vector = position/numpy.linalg.norm(position)*projection\n",
    "    return projection, projection_vector"
   ]
  },
  {
   "cell_type": "markdown",
   "metadata": {},
   "source": [
    "Exercise. Plot the following vectors and their respective projections on a sheet of paper"
   ]
  },
  {
   "cell_type": "code",
   "execution_count": 13,
   "metadata": {},
   "outputs": [
    {
     "data": {
      "text/plain": [
       "(0.0, array([0., 0.]))"
      ]
     },
     "execution_count": 13,
     "metadata": {},
     "output_type": "execute_result"
    }
   ],
   "source": [
    "project([0, 1], [1, 0])"
   ]
  },
  {
   "cell_type": "code",
   "execution_count": 14,
   "metadata": {},
   "outputs": [
    {
     "data": {
      "text/plain": [
       "(0.1, array([0.1, 0. ]))"
      ]
     },
     "execution_count": 14,
     "metadata": {},
     "output_type": "execute_result"
    }
   ],
   "source": [
    "project([0.1, 1], [1, 0])"
   ]
  },
  {
   "cell_type": "code",
   "execution_count": 15,
   "metadata": {},
   "outputs": [
    {
     "data": {
      "text/plain": [
       "(0.09950371902099893, array([0.0990099 , 0.00990099]))"
      ]
     },
     "execution_count": 15,
     "metadata": {},
     "output_type": "execute_result"
    }
   ],
   "source": [
    "project([0, 1], [1, 0.1])"
   ]
  },
  {
   "cell_type": "code",
   "execution_count": 16,
   "metadata": {},
   "outputs": [
    {
     "data": {
      "text/plain": [
       "(1.414213562373095, array([1., 1.]))"
      ]
     },
     "execution_count": 16,
     "metadata": {},
     "output_type": "execute_result"
    }
   ],
   "source": [
    "project([1, 1], [2, 2])"
   ]
  },
  {
   "cell_type": "code",
   "execution_count": 17,
   "metadata": {},
   "outputs": [
    {
     "data": {
      "text/plain": [
       "(-1.414213562373095, array([-1., -1.]))"
      ]
     },
     "execution_count": 17,
     "metadata": {},
     "output_type": "execute_result"
    }
   ],
   "source": [
    "project([-1, -1], [2, 2])"
   ]
  },
  {
   "cell_type": "markdown",
   "metadata": {},
   "source": [
    "And that's how we can compute the projection for a single cell"
   ]
  },
  {
   "cell_type": "code",
   "execution_count": 18,
   "metadata": {},
   "outputs": [
    {
     "data": {
      "text/plain": [
       "(1.23772282829649,\n",
       " array([0.82514855, 0.41257428, 0.        , 0.82514855, 0.        ]))"
      ]
     },
     "execution_count": 18,
     "metadata": {},
     "output_type": "execute_result"
    }
   ],
   "source": [
    "project(velocity[-3, :], spliced[-3, :])"
   ]
  },
  {
   "cell_type": "markdown",
   "metadata": {},
   "source": [
    "We can now compute the ratio of average neutral velocity to average differentiation velocity. Let's call that \"differentiation factor\""
   ]
  },
  {
   "cell_type": "code",
   "execution_count": 19,
   "metadata": {
    "collapsed": true
   },
   "outputs": [],
   "source": [
    "def compute_differentiation(spliced, velocity):\n",
    "    differentiation_speed = []\n",
    "    neutral_speed = []\n",
    "    for cell_no in range(velocity.shape[0]):\n",
    "        p = spliced[cell_no, :]\n",
    "        v = velocity[cell_no, :]\n",
    "        speed_away, velocity_away = project(v, p)\n",
    "        neutral = numpy.linalg.norm(p - velocity_away)\n",
    "        if not math.isnan(speed_away) and not math.isnan(neutral):\n",
    "            differentiation_speed.append(speed_away)\n",
    "            neutral_speed.append(neutral)\n",
    "    differentiation_factor = sum([abs(x) for x in differentiation_speed])/sum(neutral_speed)\n",
    "    return differentiation_factor, differentiation_speed, neutral_speed"
   ]
  },
  {
   "cell_type": "code",
   "execution_count": 20,
   "metadata": {},
   "outputs": [
    {
     "data": {
      "text/plain": [
       "(0.3187615935658027,\n",
       " [0.9617247210613897,\n",
       "  0.07636725464815439,\n",
       "  1.611063452628252,\n",
       "  -1.0844909891964354,\n",
       "  1.8538101500393651,\n",
       "  -0.5187247467665235,\n",
       "  0.4561795197718432,\n",
       "  1.23772282829649,\n",
       "  -0.3167896015509821,\n",
       "  0.23073215442594222],\n",
       " [2.6438265544025996,\n",
       "  1.9236327453518456,\n",
       "  1.8530381625095025,\n",
       "  4.548592604334191,\n",
       "  1.3084675101290142,\n",
       "  3.1644760578311137,\n",
       "  2.706098140396536,\n",
       "  1.76227717170351,\n",
       "  2.7662793443341607,\n",
       "  3.5109252323479994])"
      ]
     },
     "execution_count": 20,
     "metadata": {},
     "output_type": "execute_result"
    }
   ],
   "source": [
    "compute_differentiation(spliced, velocity)"
   ]
  },
  {
   "cell_type": "markdown",
   "metadata": {},
   "source": [
    "# Centralising the experiment and computing the differentiation factor"
   ]
  },
  {
   "cell_type": "markdown",
   "metadata": {},
   "source": [
    "Before we can use this method we have to determine the correct origin. I suggest just using the most average cell as the origin. This can be achieved by recentrilising the entire experiment to put the hypothetical \"average cell\" in the middle. We don't have to touch the velocity vectors, because the transformation doesn't affect them."
   ]
  },
  {
   "cell_type": "code",
   "execution_count": 21,
   "metadata": {
    "collapsed": true
   },
   "outputs": [],
   "source": [
    "def centralise_experiment(spliced):\n",
    "    average_cell = spliced.sum(0)/spliced.shape[0]\n",
    "    for i in range(spliced.shape[0]):\n",
    "        spliced[i, :] -= average_cell "
   ]
  },
  {
   "cell_type": "code",
   "execution_count": 22,
   "metadata": {},
   "outputs": [
    {
     "data": {
      "text/plain": [
       "array([[1., 2., 2., 2., 0.],\n",
       "       [2., 0., 0., 0., 0.],\n",
       "       [1., 1., 0., 1., 3.],\n",
       "       [3., 0., 1., 1., 1.],\n",
       "       [0., 1., 3., 0., 0.],\n",
       "       [1., 1., 2., 1., 0.],\n",
       "       [1., 0., 2., 2., 1.],\n",
       "       [2., 1., 0., 2., 0.],\n",
       "       [1., 0., 2., 0., 1.],\n",
       "       [1., 2., 1., 2., 2.]])"
      ]
     },
     "execution_count": 22,
     "metadata": {},
     "output_type": "execute_result"
    }
   ],
   "source": [
    "spliced"
   ]
  },
  {
   "cell_type": "code",
   "execution_count": 23,
   "metadata": {
    "collapsed": true
   },
   "outputs": [],
   "source": [
    "centralise_experiment(spliced)"
   ]
  },
  {
   "cell_type": "code",
   "execution_count": 24,
   "metadata": {},
   "outputs": [
    {
     "data": {
      "text/plain": [
       "array([[-0.3,  1.2,  0.7,  0.9, -0.8],\n",
       "       [ 0.7, -0.8, -1.3, -1.1, -0.8],\n",
       "       [-0.3,  0.2, -1.3, -0.1,  2.2],\n",
       "       [ 1.7, -0.8, -0.3, -0.1,  0.2],\n",
       "       [-1.3,  0.2,  1.7, -1.1, -0.8],\n",
       "       [-0.3,  0.2,  0.7, -0.1, -0.8],\n",
       "       [-0.3, -0.8,  0.7,  0.9,  0.2],\n",
       "       [ 0.7,  0.2, -1.3,  0.9, -0.8],\n",
       "       [-0.3, -0.8,  0.7, -1.1,  0.2],\n",
       "       [-0.3,  1.2, -0.3,  0.9,  1.2]])"
      ]
     },
     "execution_count": 24,
     "metadata": {},
     "output_type": "execute_result"
    }
   ],
   "source": [
    "spliced"
   ]
  },
  {
   "cell_type": "markdown",
   "metadata": {
    "collapsed": true
   },
   "source": [
    "Now we can compute the differentiation factor"
   ]
  },
  {
   "cell_type": "code",
   "execution_count": 25,
   "metadata": {
    "collapsed": true
   },
   "outputs": [],
   "source": [
    "differentiation_factor, neutral_velocity, differentiation_velocity = compute_differentiation(spliced, velocity)"
   ]
  },
  {
   "cell_type": "code",
   "execution_count": 26,
   "metadata": {},
   "outputs": [
    {
     "data": {
      "text/plain": [
       "0.5001250317952632"
      ]
     },
     "execution_count": 26,
     "metadata": {},
     "output_type": "execute_result"
    }
   ],
   "source": [
    "differentiation_factor"
   ]
  },
  {
   "cell_type": "code",
   "execution_count": 27,
   "metadata": {},
   "outputs": [
    {
     "data": {
      "image/png": "[encoded data removed]",
      "text/plain": [
       "<Figure size 432x288 with 1 Axes>"
      ]
     },
     "metadata": {},
     "output_type": "display_data"
    }
   ],
   "source": [
    "_ = plt.hist(neutral_velocity)"
   ]
  },
  {
   "cell_type": "code",
   "execution_count": 28,
   "metadata": {},
   "outputs": [
    {
     "data": {
      "image/png": "[encoded data removed]",
      "text/plain": [
       "<Figure size 432x288 with 1 Axes>"
      ]
     },
     "metadata": {},
     "output_type": "display_data"
    }
   ],
   "source": [
    "_ = plt.hist(differentiation_velocity)"
   ]
  }
 ],
 "metadata": {
  "kernelspec": {
   "display_name": "Python 3 Clinical Applicatoins",
   "language": "python",
   "name": "clinical_applications"
  },
  "language_info": {
   "codemirror_mode": {
    "name": "ipython",
    "version": 3
   },
   "file_extension": ".py",
   "mimetype": "text/x-python",
   "name": "python",
   "nbconvert_exporter": "python",
   "pygments_lexer": "ipython3",
   "version": "3.5.2"
  }
 },
 "nbformat": 4,
 "nbformat_minor": 2
}
