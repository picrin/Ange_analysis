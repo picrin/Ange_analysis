{
 "cells": [
  {
   "cell_type": "code",
   "execution_count": 1,
   "metadata": {},
   "outputs": [
    {
     "name": "stderr",
     "output_type": "stream",
     "text": [
      "/home/ubuntu/.local/lib/python3.6/site-packages/numba/errors.py:105: UserWarning: Insufficiently recent colorama version found. Numba requires colorama >= 0.3.9\n",
      "  warnings.warn(msg)\n"
     ]
    },
    {
     "name": "stdout",
     "output_type": "stream",
     "text": [
      "scanpy==1.4 anndata==0.6.19 numpy==1.16.3 scipy==1.2.1 pandas==0.24.2 scikit-learn==0.20.3 statsmodels==0.9.0 python-igraph==0.7.1 louvain==0.6.1 \n"
     ]
    }
   ],
   "source": [
    "import numpy as np\n",
    "import numpy\n",
    "import pandas\n",
    "import scanpy\n",
    "import scanpy as sc\n",
    "import anndata\n",
    "import seaborn\n",
    "import matplotlib.pyplot as plt\n",
    "%matplotlib inline\n",
    "\n",
    "import numpy as np\n",
    "import pandas as pd\n",
    "import scanpy as sc\n",
    "import scvelo as scv\n",
    "import math\n",
    "import random\n",
    "\n",
    "from collections import OrderedDict\n",
    "\n",
    "sc.settings.verbosity = 3             # verbosity: errors (0), warnings (1), info (2), hints (3)\n",
    "sc.logging.print_versions()"
   ]
  },
  {
   "cell_type": "markdown",
   "metadata": {},
   "source": [
    "# Simulating a single cell experiment"
   ]
  },
  {
   "cell_type": "markdown",
   "metadata": {},
   "source": [
    "1. `cell_no` – number of rows/cells.\n",
    "2. `gene_no` – number of columns/genes.\n",
    "3. We simulate count matrix by assuming it follows a hierarchical process: `poisson(lognormal(0, 0.1))`. This can be argued to make sense: poisson simulates the bead and lognormal simulates the true expression of a gene. Better models are possible (e.g. assuming different genes have different expression rates, etc.).\n",
    "4. We simulate velocity to follow a normal distribution with mu=0 and sigma=1."
   ]
  },
  {
   "cell_type": "code",
   "execution_count": 2,
   "metadata": {},
   "outputs": [],
   "source": [
    "def create_cell(gene_no, function, constants):\n",
    "    result = []\n",
    "    for i in range(gene_no):\n",
    "        result.append(function(*constants))\n",
    "    return numpy.array(result).reshape(1, -1)"
   ]
  },
  {
   "cell_type": "code",
   "execution_count": 3,
   "metadata": {},
   "outputs": [],
   "source": [
    "def create_experiment(cell_no, gene_no, function, constants):\n",
    "    experiment = numpy.zeros(shape=(cell_no, gene_no))\n",
    "    for i in range(cell_no):\n",
    "        experiment[i, :] = create_cell(gene_no, function, constants)\n",
    "    return experiment"
   ]
  },
  {
   "cell_type": "code",
   "execution_count": 4,
   "metadata": {},
   "outputs": [],
   "source": [
    "spliced = create_experiment(10, 5, lambda mu, sigma: numpy.random.poisson(numpy.random.lognormal(mu, sigma)), [0, 0.1])"
   ]
  },
  {
   "cell_type": "code",
   "execution_count": 5,
   "metadata": {},
   "outputs": [
    {
     "data": {
      "text/plain": [
       "array([[0., 0., 2., 0., 0.],\n",
       "       [0., 2., 0., 1., 0.],\n",
       "       [0., 1., 1., 0., 1.],\n",
       "       [1., 1., 1., 0., 0.],\n",
       "       [0., 0., 0., 2., 1.],\n",
       "       [0., 0., 3., 0., 1.],\n",
       "       [3., 0., 0., 2., 1.],\n",
       "       [1., 1., 1., 0., 1.],\n",
       "       [1., 0., 0., 2., 2.],\n",
       "       [3., 0., 0., 0., 0.]])"
      ]
     },
     "execution_count": 5,
     "metadata": {},
     "output_type": "execute_result"
    }
   ],
   "source": [
    "spliced"
   ]
  },
  {
   "cell_type": "code",
   "execution_count": 6,
   "metadata": {},
   "outputs": [],
   "source": [
    "velocity = create_experiment(10, 5, numpy.random.normal, [0, 1])"
   ]
  },
  {
   "cell_type": "code",
   "execution_count": 7,
   "metadata": {},
   "outputs": [
    {
     "data": {
      "text/plain": [
       "array([[ 0.02609248,  0.99527995,  0.25913212,  0.81613921, -0.01802685],\n",
       "       [-1.16307896,  0.94509676, -0.86756113,  1.86342507,  0.48123188],\n",
       "       [-1.44248821,  0.65546756,  0.42721169, -0.36330289, -0.43608113],\n",
       "       [ 1.52282113, -0.05932364,  1.6796721 , -2.02228919,  0.37100465],\n",
       "       [-0.81315988, -0.68809844, -1.5910873 ,  0.77414518,  1.27831583],\n",
       "       [ 2.11697016, -1.98477337, -0.537757  , -1.70422073,  0.04305631],\n",
       "       [ 0.2293761 ,  0.5802663 ,  0.47645576,  2.39526616, -0.24923797],\n",
       "       [-0.7673174 , -1.46746713,  0.46903205,  0.39773392, -0.03585941],\n",
       "       [-0.75463498, -0.3871674 ,  0.36673418, -0.30224087,  0.14169134],\n",
       "       [-2.48225296, -0.15051277,  0.96370612,  0.36441406, -1.61566052]])"
      ]
     },
     "execution_count": 7,
     "metadata": {},
     "output_type": "execute_result"
    }
   ],
   "source": [
    "velocity"
   ]
  },
  {
   "cell_type": "code",
   "execution_count": 8,
   "metadata": {},
   "outputs": [
    {
     "data": {
      "text/plain": [
       "(10, 5)"
      ]
     },
     "execution_count": 8,
     "metadata": {},
     "output_type": "execute_result"
    }
   ],
   "source": [
    "velocity.shape"
   ]
  },
  {
   "cell_type": "code",
   "execution_count": 9,
   "metadata": {},
   "outputs": [],
   "source": [
    "assert velocity.shape == spliced.shape"
   ]
  },
  {
   "cell_type": "markdown",
   "metadata": {},
   "source": [
    "That's how we can choose an example cell's velocity"
   ]
  },
  {
   "cell_type": "code",
   "execution_count": 10,
   "metadata": {},
   "outputs": [
    {
     "data": {
      "text/plain": [
       "array([-0.7673174 , -1.46746713,  0.46903205,  0.39773392, -0.03585941])"
      ]
     },
     "execution_count": 10,
     "metadata": {},
     "output_type": "execute_result"
    }
   ],
   "source": [
    "example_velocity = velocity[-3, :]\n",
    "example_velocity"
   ]
  },
  {
   "cell_type": "markdown",
   "metadata": {},
   "source": [
    "And an example cell"
   ]
  },
  {
   "cell_type": "code",
   "execution_count": 11,
   "metadata": {},
   "outputs": [
    {
     "data": {
      "text/plain": [
       "array([1., 1., 1., 0., 1.])"
      ]
     },
     "execution_count": 11,
     "metadata": {},
     "output_type": "execute_result"
    }
   ],
   "source": [
    "example_cell = spliced[-3, :]\n",
    "example_cell"
   ]
  },
  {
   "cell_type": "markdown",
   "metadata": {},
   "source": [
    "# The next bit is some rather easy linear algebra\n",
    "\n",
    "We're just going to take a projection of velocity onto the position vector, and measure that. This will allow us to define and measure differentiation rate."
   ]
  },
  {
   "cell_type": "markdown",
   "metadata": {},
   "source": [
    "![velocity projection](https://trello-attachments.s3.amazonaws.com/5a982c9ba3afcf0a82b5b26c/5c84e116d5a3ed167f8ac28a/b4e329c442b2e809f7270ebf8ad8e07f/IMG_20190310_100347422.jpg)"
   ]
  },
  {
   "cell_type": "markdown",
   "metadata": {},
   "source": [
    "# The cell above has made all the right life choices! See, her career narrative is showing a \"clear, fairly linear development\" along her chosen path. Before long, she'll be in a position of leadership and influence, recognised among many cells! We should all aspire to be like this cell!"
   ]
  },
  {
   "cell_type": "code",
   "execution_count": 12,
   "metadata": {},
   "outputs": [],
   "source": [
    "def project(velocity, position):\n",
    "    projection = numpy.dot(velocity, position)/numpy.linalg.norm(position)\n",
    "    projection_vector = position/numpy.linalg.norm(position)*projection\n",
    "    return projection, projection_vector"
   ]
  },
  {
   "cell_type": "markdown",
   "metadata": {},
   "source": [
    "Exercise. Plot the following vectors and their respective projections on a sheet of paper"
   ]
  },
  {
   "cell_type": "code",
   "execution_count": 13,
   "metadata": {},
   "outputs": [
    {
     "data": {
      "text/plain": [
       "(0.0, array([0., 0.]))"
      ]
     },
     "execution_count": 13,
     "metadata": {},
     "output_type": "execute_result"
    }
   ],
   "source": [
    "project([0, 1], [1, 0])"
   ]
  },
  {
   "cell_type": "code",
   "execution_count": 14,
   "metadata": {},
   "outputs": [
    {
     "data": {
      "text/plain": [
       "(0.1, array([0.1, 0. ]))"
      ]
     },
     "execution_count": 14,
     "metadata": {},
     "output_type": "execute_result"
    }
   ],
   "source": [
    "project([0.1, 1], [1, 0])"
   ]
  },
  {
   "cell_type": "code",
   "execution_count": 15,
   "metadata": {},
   "outputs": [
    {
     "data": {
      "text/plain": [
       "(0.09950371902099893, array([0.0990099 , 0.00990099]))"
      ]
     },
     "execution_count": 15,
     "metadata": {},
     "output_type": "execute_result"
    }
   ],
   "source": [
    "project([0, 1], [1, 0.1])"
   ]
  },
  {
   "cell_type": "code",
   "execution_count": 16,
   "metadata": {},
   "outputs": [
    {
     "data": {
      "text/plain": [
       "(1.414213562373095, array([1., 1.]))"
      ]
     },
     "execution_count": 16,
     "metadata": {},
     "output_type": "execute_result"
    }
   ],
   "source": [
    "project([1, 1], [2, 2])"
   ]
  },
  {
   "cell_type": "code",
   "execution_count": 17,
   "metadata": {},
   "outputs": [
    {
     "data": {
      "text/plain": [
       "(-1.414213562373095, array([-1., -1.]))"
      ]
     },
     "execution_count": 17,
     "metadata": {},
     "output_type": "execute_result"
    }
   ],
   "source": [
    "project([-1, -1], [2, 2])"
   ]
  },
  {
   "cell_type": "markdown",
   "metadata": {},
   "source": [
    "And that's how we can compute the projection for a single cell"
   ]
  },
  {
   "cell_type": "code",
   "execution_count": 18,
   "metadata": {},
   "outputs": [
    {
     "data": {
      "text/plain": [
       "(-0.9008059433291562,\n",
       " array([-0.45040297, -0.45040297, -0.45040297, -0.        , -0.45040297]))"
      ]
     },
     "execution_count": 18,
     "metadata": {},
     "output_type": "execute_result"
    }
   ],
   "source": [
    "project(velocity[-3, :], spliced[-3, :])"
   ]
  },
  {
   "cell_type": "markdown",
   "metadata": {},
   "source": [
    "We can now compute the ratio of average neutral velocity to average differentiation velocity. Let's call that \"differentiation factor\""
   ]
  },
  {
   "cell_type": "code",
   "execution_count": 19,
   "metadata": {},
   "outputs": [],
   "source": [
    "def compute_differentiation(spliced, velocity):\n",
    "    differentiation_speed = []\n",
    "    neutral_speed = []\n",
    "    for cell_no in range(velocity.shape[0]):\n",
    "        p = spliced[cell_no, :]\n",
    "        v = velocity[cell_no, :]\n",
    "        speed_away, velocity_away = project(v, p)\n",
    "        neutral = numpy.linalg.norm(v - velocity_away)\n",
    "        if not math.isnan(speed_away) and not math.isnan(neutral):\n",
    "            differentiation_speed.append(speed_away)\n",
    "            neutral_speed.append(neutral)\n",
    "    differentiation_factor = sum(differentiation_speed)/sum(neutral_speed)\n",
    "    return differentiation_factor, neutral_speed, differentiation_speed"
   ]
  },
  {
   "cell_type": "code",
   "execution_count": 20,
   "metadata": {},
   "outputs": [
    {
     "data": {
      "text/plain": [
       "(0.1318536084356379,\n",
       " [1.2875057932068734,\n",
       "  1.9709463396560563,\n",
       "  1.6957925840345156,\n",
       "  2.4653454470615364,\n",
       "  2.0740585470467336,\n",
       "  3.371903815133762,\n",
       "  2.112440478920216,\n",
       "  1.5199518601241888,\n",
       "  0.914720889416947,\n",
       "  1.922118645153605],\n",
       " [0.2591321153078587,\n",
       "  1.6786692706830393,\n",
       "  0.3733135971633013,\n",
       "  1.8147098094777556,\n",
       "  1.2640967119016082,\n",
       "  -0.49654548595996284,\n",
       "  1.3976219897811477,\n",
       "  -0.9008059433291562,\n",
       "  -0.3585780124642602,\n",
       "  -2.482252961128629])"
      ]
     },
     "execution_count": 20,
     "metadata": {},
     "output_type": "execute_result"
    }
   ],
   "source": [
    "compute_differentiation(spliced, velocity)"
   ]
  },
  {
   "cell_type": "markdown",
   "metadata": {},
   "source": [
    "# Centralising the experiment and computing the differentiation factor"
   ]
  },
  {
   "cell_type": "markdown",
   "metadata": {},
   "source": [
    "Before we can use this method we have to determine the correct origin. I suggest just using the most average cell as the origin. This can be achieved by recentrilising the entire experiment to put the hypothetical \"average cell\" in the middle. We don't have to touch the velocity vectors, because the transformation doesn't affect them."
   ]
  },
  {
   "cell_type": "code",
   "execution_count": 21,
   "metadata": {},
   "outputs": [],
   "source": [
    "def centralise_experiment(spliced):\n",
    "    average_cell = spliced.sum(0)/spliced.shape[0]\n",
    "    for i in range(spliced.shape[0]):\n",
    "        spliced[i, :] -= average_cell "
   ]
  },
  {
   "cell_type": "code",
   "execution_count": 22,
   "metadata": {},
   "outputs": [
    {
     "data": {
      "text/plain": [
       "array([[0., 0., 2., 0., 0.],\n",
       "       [0., 2., 0., 1., 0.],\n",
       "       [0., 1., 1., 0., 1.],\n",
       "       [1., 1., 1., 0., 0.],\n",
       "       [0., 0., 0., 2., 1.],\n",
       "       [0., 0., 3., 0., 1.],\n",
       "       [3., 0., 0., 2., 1.],\n",
       "       [1., 1., 1., 0., 1.],\n",
       "       [1., 0., 0., 2., 2.],\n",
       "       [3., 0., 0., 0., 0.]])"
      ]
     },
     "execution_count": 22,
     "metadata": {},
     "output_type": "execute_result"
    }
   ],
   "source": [
    "spliced"
   ]
  },
  {
   "cell_type": "code",
   "execution_count": 23,
   "metadata": {},
   "outputs": [],
   "source": [
    "centralise_experiment(spliced)"
   ]
  },
  {
   "cell_type": "code",
   "execution_count": 24,
   "metadata": {},
   "outputs": [
    {
     "data": {
      "text/plain": [
       "array([[-0.9, -0.5,  1.2, -0.7, -0.7],\n",
       "       [-0.9,  1.5, -0.8,  0.3, -0.7],\n",
       "       [-0.9,  0.5,  0.2, -0.7,  0.3],\n",
       "       [ 0.1,  0.5,  0.2, -0.7, -0.7],\n",
       "       [-0.9, -0.5, -0.8,  1.3,  0.3],\n",
       "       [-0.9, -0.5,  2.2, -0.7,  0.3],\n",
       "       [ 2.1, -0.5, -0.8,  1.3,  0.3],\n",
       "       [ 0.1,  0.5,  0.2, -0.7,  0.3],\n",
       "       [ 0.1, -0.5, -0.8,  1.3,  1.3],\n",
       "       [ 2.1, -0.5, -0.8, -0.7, -0.7]])"
      ]
     },
     "execution_count": 24,
     "metadata": {},
     "output_type": "execute_result"
    }
   ],
   "source": [
    "spliced"
   ]
  },
  {
   "cell_type": "markdown",
   "metadata": {
    "collapsed": true
   },
   "source": [
    "# Now we can compute the differentiation factor"
   ]
  },
  {
   "cell_type": "code",
   "execution_count": 25,
   "metadata": {},
   "outputs": [],
   "source": [
    "differentiation_factor, neutral_velocity, differentiation_velocity = compute_differentiation(spliced, velocity)"
   ]
  },
  {
   "cell_type": "code",
   "execution_count": 26,
   "metadata": {},
   "outputs": [
    {
     "data": {
      "text/plain": [
       "[-0.4121432764495108,\n",
       " 1.6340893436347197,\n",
       " 1.4156585450287902,\n",
       " 1.42698912051408,\n",
       " 2.0041248478749303,\n",
       " -0.3496566282751804,\n",
       " 1.0708951491528433,\n",
       " -1.0722188769696404,\n",
       " -0.18560447840962224,\n",
       " -2.0082129408382494]"
      ]
     },
     "execution_count": 26,
     "metadata": {},
     "output_type": "execute_result"
    }
   ],
   "source": [
    "differentiation_velocity"
   ]
  },
  {
   "cell_type": "code",
   "execution_count": 27,
   "metadata": {},
   "outputs": [
    {
     "data": {
      "text/plain": [
       "0.1873527834990585"
      ]
     },
     "execution_count": 27,
     "metadata": {},
     "output_type": "execute_result"
    }
   ],
   "source": [
    "differentiation_factor"
   ]
  },
  {
   "cell_type": "code",
   "execution_count": 28,
   "metadata": {},
   "outputs": [
    {
     "data": {
      "image/png": "[encoded data removed]",
      "text/plain": [
       "<Figure size 432x288 with 1 Axes>"
      ]
     },
     "metadata": {
      "needs_background": "light"
     },
     "output_type": "display_data"
    }
   ],
   "source": [
    "_ = plt.hist(neutral_velocity)"
   ]
  },
  {
   "cell_type": "code",
   "execution_count": 29,
   "metadata": {},
   "outputs": [
    {
     "data": {
      "image/png": "[encoded data removed]",
      "text/plain": [
       "<Figure size 432x288 with 1 Axes>"
      ]
     },
     "metadata": {
      "needs_background": "light"
     },
     "output_type": "display_data"
    }
   ],
   "source": [
    "_ = plt.hist(differentiation_velocity)"
   ]
  },
  {
   "cell_type": "markdown",
   "metadata": {},
   "source": [
    "# Load real data"
   ]
  },
  {
   "cell_type": "code",
   "execution_count": 30,
   "metadata": {},
   "outputs": [
    {
     "data": {
      "text/plain": [
       "{'nontreated': AnnData object with n_obs × n_vars = 5019 × 7176 \n",
       "     obs: 'batch', 'cellular_barcode', 'n_counts', 'percent_mito', 'S_score', 'G2M_score', 'phase', 'louvain', 'cVSMC signature'\n",
       "     var: 'gene_names', 'highly_variable', 'means', 'dispersions', 'dispersions_norm', 'velocity_gamma', 'velocity_r2', 'velocity_genes'\n",
       "     uns: 'genes_before_highly_variable', 'genes_original', 'louvain', 'louvain_colors', 'neighbors', 'pca', 'phase_colors', 'velocity_graph', 'velocity_graph_neg'\n",
       "     obsm: 'X_pca', 'X_umap', 'velocity_umap'\n",
       "     varm: 'PCs'\n",
       "     layers: 'Ms', 'Mu', 'ambiguous', 'spliced', 'unspliced', 'variance_velocity', 'velocity',\n",
       " 'treated': AnnData object with n_obs × n_vars = 7047 × 7176 \n",
       "     obs: 'batch', 'cellular_barcode', 'n_counts', 'percent_mito', 'S_score', 'G2M_score', 'phase', 'louvain', 'cVSMC signature'\n",
       "     var: 'gene_names', 'highly_variable', 'means', 'dispersions', 'dispersions_norm', 'velocity_gamma', 'velocity_r2', 'velocity_genes'\n",
       "     uns: 'genes_before_highly_variable', 'genes_original', 'louvain', 'louvain_colors', 'neighbors', 'pca', 'phase_colors', 'velocity_graph', 'velocity_graph_neg'\n",
       "     obsm: 'X_pca', 'X_umap', 'velocity_umap'\n",
       "     varm: 'PCs'\n",
       "     layers: 'Ms', 'Mu', 'ambiguous', 'spliced', 'unspliced', 'variance_velocity', 'velocity'}"
      ]
     },
     "execution_count": 30,
     "metadata": {},
     "output_type": "execute_result"
    }
   ],
   "source": [
    "import os\n",
    "\n",
    "BATCH_LABELS = (\"nontreated\", \"treated\")\n",
    "batches = {}\n",
    "\n",
    "for batch in BATCH_LABELS:\n",
    "    filename = \"tgfb1-5-\" + batch + \".h5ad\"\n",
    "    filename = os.path.join(\"write\", filename)\n",
    "    batches[batch] = anndata.read(filename)\n",
    "\n",
    "batches"
   ]
  },
  {
   "cell_type": "markdown",
   "metadata": {},
   "source": [
    "## Look at the count matrix and the velocity layer"
   ]
  },
  {
   "cell_type": "code",
   "execution_count": 32,
   "metadata": {},
   "outputs": [
    {
     "name": "stdout",
     "output_type": "stream",
     "text": [
      "Velocity layer for nontreated\n",
      "[[-0.11669185 -0.04802166 -0.07153951 ...  0.          0.53530145\n",
      "   0.1010994 ]\n",
      " [-0.08634764 -0.00076031 -0.01795642 ...  0.          0.2760117\n",
      "   0.1790248 ]\n",
      " [-0.11763915 -0.01089987  0.2144634  ...  0.          0.08790916\n",
      "  -0.00258453]\n",
      " ...\n",
      " [-0.08517344 -0.03696687  0.09121668 ...  0.          0.09474653\n",
      "   0.3227505 ]\n",
      " [-0.03922656  0.          0.0711737  ...  0.          0.27183205\n",
      "   0.10610638]\n",
      " [-0.046618    0.03568673  0.03314865 ...  0.          0.63713473\n",
      "   0.04866816]]\n",
      "\n",
      "Count matrix for nontreated\n",
      "[[-0.6088135  -0.22323607 -0.42934215 ... -0.12527764 -0.279866\n",
      "  -0.25683123]\n",
      " [-0.663935   -0.28654054 -0.4754636  ... -0.12502082 -0.36727536\n",
      "  -0.33191097]\n",
      " [ 2.5395727  -0.23773043 -0.41964793 ... -0.08048145 -0.30034414\n",
      "  -0.2936986 ]\n",
      " ...\n",
      " [-0.5882133  -0.19094841 -0.38110375 ... -0.10690089 -0.23395406\n",
      "  -0.22980754]\n",
      " [ 0.34425724 -0.23577918 -0.4153347  ... -0.18538801 -0.2918658\n",
      "  -0.2548989 ]\n",
      " [-0.5385425  -0.17702276  1.2876805  ... -0.17794357 -0.21743228\n",
      "  -0.17498918]]\n",
      "\n",
      "\n",
      "Velocity layer for treated\n",
      "[[ 0.03241129 -0.00814821  0.0033941  ...  0.          0.12080574\n",
      "  -0.05421248]\n",
      " [-0.03144422  0.06019935 -0.11207321 ...  0.          0.6245018\n",
      "  -0.02066328]\n",
      " [ 0.10507571  0.01658076 -0.10329552 ...  0.          0.02046818\n",
      "  -0.02285659]\n",
      " ...\n",
      " [-0.01932186 -0.05318276  0.06724109 ...  0.          0.22072768\n",
      "   0.19362453]\n",
      " [-0.064878    0.00749632 -0.02761643 ...  0.          0.6641331\n",
      "  -0.00097908]\n",
      " [-0.11548305  0.00437387  0.08631665 ...  0.          0.42730343\n",
      "   0.16403632]]\n",
      "\n",
      "Count matrix for treated\n",
      "[[-0.5388021  -0.28563833 -0.39729935 ... -0.07771287 -0.3161835\n",
      "  -0.24979578]\n",
      " [-0.55845636 -0.26502758 -0.3687118  ... -0.04126193 -0.26036653\n",
      "  -0.22801575]\n",
      " [-0.56750387 -0.22913405 -0.34626433 ... -0.06874949 -0.23716679\n",
      "  -0.21520261]\n",
      " ...\n",
      " [ 1.748084   -0.30208948 -0.43443757 ... -0.08573157 -0.34872457\n",
      "  -0.27685142]\n",
      " [ 1.2648096  -0.22682002 -0.34551275 ... -0.17245503 -0.31115502\n",
      "  -0.22006796]\n",
      " [-0.530095   -0.2564698  -0.35757893 ... -0.10295963 -0.29413983\n",
      "  -0.2234219 ]]\n",
      "\n",
      "\n"
     ]
    }
   ],
   "source": [
    "for batch, matrix in batches.items():\n",
    "    print(\"Velocity layer for\", batch)\n",
    "    print(matrix.layers[\"velocity\"])\n",
    "    print(\"\")\n",
    "    \n",
    "    print(\"Count matrix for\", batch)\n",
    "    print(matrix.X)\n",
    "    print(\"\")\n",
    "    print(\"\")"
   ]
  },
  {
   "cell_type": "markdown",
   "metadata": {},
   "source": [
    "## Compute differentiation per batch"
   ]
  },
  {
   "cell_type": "code",
   "execution_count": 33,
   "metadata": {},
   "outputs": [
    {
     "name": "stdout",
     "output_type": "stream",
     "text": [
      "Computing differentiation for batch nontreated\n",
      "Computing differentiation for batch treated\n"
     ]
    }
   ],
   "source": [
    "gdf = {\"df\": OrderedDict(), \"neutral_velo\": OrderedDict(), \"df_velo\": OrderedDict()}\n",
    "\n",
    "for batch, matrix in batches.items():\n",
    "    print(\"Computing differentiation for batch\", batch)\n",
    "    \n",
    "    df, neutral_velo, df_velo = compute_differentiation(matrix.X, matrix.layers[\"velocity\"])\n",
    "    \n",
    "    gdf[\"df\"][batch] = df\n",
    "    gdf[\"neutral_velo\"][batch] = neutral_velo\n",
    "    gdf[\"df_velo\"][batch] = df_velo\n",
    "        "
   ]
  },
  {
   "cell_type": "code",
   "execution_count": 34,
   "metadata": {},
   "outputs": [
    {
     "name": "stdout",
     "output_type": "stream",
     "text": [
      "now printing df\n",
      "nontreated : -0.02324794229924303\n",
      "treated : -0.027754899150516144\n",
      "now printing neutral_velo\n",
      "now printing df_velo\n"
     ]
    },
    {
     "data": {
      "text/plain": [
       "<Figure size 432x288 with 0 Axes>"
      ]
     },
     "metadata": {},
     "output_type": "display_data"
    },
    {
     "data": {
      "image/png": "[encoded data removed]",
      "text/plain": [
       "<Figure size 432x288 with 1 Axes>"
      ]
     },
     "metadata": {
      "needs_background": "light"
     },
     "output_type": "display_data"
    },
    {
     "data": {
      "image/png": "[encoded data removed]",
      "text/plain": [
       "<Figure size 432x288 with 1 Axes>"
      ]
     },
     "metadata": {
      "needs_background": "light"
     },
     "output_type": "display_data"
    }
   ],
   "source": [
    "for category, per_batch in gdf.items():    \n",
    "    print(\"now printing\", category)\n",
    "    f = plt.figure()\n",
    "    \n",
    "    for batch, data in per_batch.items():\n",
    "        if type(data) != list:\n",
    "            print(batch, \":\", data)\n",
    "        else:\n",
    "            _ = plt.hist(data, bins=100, color=\"blue\" if batch == \"nontreated\" else \"red\")\n",
    "            "
   ]
  },
  {
   "cell_type": "markdown",
   "metadata": {},
   "source": [
    "# Velocity per louvain cluster"
   ]
  },
  {
   "cell_type": "code",
   "execution_count": 35,
   "metadata": {},
   "outputs": [],
   "source": [
    "def unit_vector(vector):\n",
    "    \"\"\" Returns the unit vector of the vector.  \"\"\"\n",
    "    return vector / np.linalg.norm(vector)\n",
    "\n",
    "def angle_between(v1, v2):\n",
    "    \"\"\" Returns the angle in radians between vectors 'v1' and 'v2'::\n",
    "\n",
    "            >>> angle_between((1, 0, 0), (0, 1, 0))\n",
    "            1.5707963267948966\n",
    "            >>> angle_between((1, 0, 0), (1, 0, 0))\n",
    "            0.0\n",
    "            >>> angle_between((1, 0, 0), (-1, 0, 0))\n",
    "            3.141592653589793\n",
    "    \"\"\"\n",
    "    v1_u = unit_vector(v1)\n",
    "    v2_u = unit_vector(v2)\n",
    "    return np.arccos(np.clip(np.dot(v1_u, v2_u), -1.0, 1.0))"
   ]
  },
  {
   "cell_type": "code",
   "execution_count": 36,
   "metadata": {},
   "outputs": [],
   "source": [
    "def get_cell_indices_per_cluster(matrix):\n",
    "    louvain_indices = {}\n",
    "    for i, louvain in enumerate(matrix.obs[\"louvain\"]):\n",
    "        l = louvain_indices.get(louvain, [])\n",
    "        l.append(i)\n",
    "        louvain_indices[louvain] = l\n",
    "    \n",
    "    return louvain_indices"
   ]
  },
  {
   "cell_type": "code",
   "execution_count": 37,
   "metadata": {},
   "outputs": [],
   "source": [
    "def lengths_for_cluster(matrix, indices_per_cluster):\n",
    "    cluster_vel = matrix.layers[\"velocity\"][indices_per_cluster]\n",
    "    return [numpy.linalg.norm(i) for i in cluster_vel]"
   ]
  },
  {
   "cell_type": "code",
   "execution_count": 38,
   "metadata": {},
   "outputs": [],
   "source": [
    "def angles_for_cluster(matrix, indices_per_cluster):\n",
    "    cluster_vel = matrix.layers[\"velocity\"][indices_per_cluster]\n",
    "    result = []\n",
    "    for _ in range(1000):\n",
    "        i = cluster_vel[random.randint(0, len(cluster_vel) - 1)]\n",
    "        j = cluster_vel[random.randint(0, len(cluster_vel) - 1)]\n",
    "        result.append(angle_between(i, j) * 180/math.pi)\n",
    "    return result"
   ]
  },
  {
   "cell_type": "code",
   "execution_count": 39,
   "metadata": {},
   "outputs": [
    {
     "name": "stdout",
     "output_type": "stream",
     "text": [
      "shape of velocity layer for batch nontreated : (5019, 7176)\n",
      "created length and angle distributions for batch nontreated\n",
      "plotting length distribution for batch nontreated\n"
     ]
    },
    {
     "data": {
      "image/png": "[encoded data removed]",
      "text/plain": [
       "<Figure size 432x288 with 1 Axes>"
      ]
     },
     "metadata": {
      "needs_background": "light"
     },
     "output_type": "display_data"
    },
    {
     "name": "stdout",
     "output_type": "stream",
     "text": [
      "plotting angle distribution for batch nontreated\n"
     ]
    },
    {
     "data": {
      "image/png": "[encoded data removed]",
      "text/plain": [
       "<Figure size 432x288 with 1 Axes>"
      ]
     },
     "metadata": {
      "needs_background": "light"
     },
     "output_type": "display_data"
    },
    {
     "name": "stdout",
     "output_type": "stream",
     "text": [
      "shape of velocity layer for batch treated : (7047, 7176)\n",
      "created length and angle distributions for batch treated\n",
      "plotting length distribution for batch treated\n"
     ]
    },
    {
     "data": {
      "image/png": "[encoded data removed]",
      "text/plain": [
       "<Figure size 432x288 with 1 Axes>"
      ]
     },
     "metadata": {
      "needs_background": "light"
     },
     "output_type": "display_data"
    },
    {
     "name": "stdout",
     "output_type": "stream",
     "text": [
      "plotting angle distribution for batch treated\n"
     ]
    },
    {
     "data": {
      "image/png": "[encoded data removed]",
      "text/plain": [
       "<Figure size 432x288 with 1 Axes>"
      ]
     },
     "metadata": {
      "needs_background": "light"
     },
     "output_type": "display_data"
    }
   ],
   "source": [
    "for batch, matrix in batches.items():\n",
    "    print(\"shape of velocity layer for batch\", batch, \":\", matrix.layers[\"velocity\"].shape)\n",
    "    louvain_indices = get_cell_indices_per_cluster(matrix)\n",
    "    \n",
    "    length_distribution = [lengths_for_cluster(matrix, louvain_indices[k]) for k in sorted(louvain_indices.keys())]\n",
    "    angle_distribution = [angles_for_cluster(matrix, louvain_indices[k]) for k in sorted(louvain_indices.keys())]\n",
    "    \n",
    "    print(\"created length and angle distributions for batch\", batch)\n",
    "\n",
    "    print(\"plotting length distribution for batch\", batch)\n",
    "    ax = seaborn.violinplot(data=length_distribution)\n",
    "    ax.set(xlabel='louvain clusters', ylabel='velocity vector length (' + batch + ')')\n",
    "    plt.show()\n",
    "    \n",
    "    print(\"plotting angle distribution for batch\", batch)\n",
    "    ax = seaborn.violinplot(data=angle_distribution)\n",
    "    ax.set(xlabel='louvain clusters', ylabel='velocity consistency (' + batch + ')')\n",
    "    plt.show()"
   ]
  }
 ],
 "metadata": {
  "kernelspec": {
   "display_name": "Python 3",
   "language": "python",
   "name": "python3"
  },
  "language_info": {
   "codemirror_mode": {
    "name": "ipython",
    "version": 3
   },
   "file_extension": ".py",
   "mimetype": "text/x-python",
   "name": "python",
   "nbconvert_exporter": "python",
   "pygments_lexer": "ipython3",
   "version": "3.6.7"
  }
 },
 "nbformat": 4,
 "nbformat_minor": 2
}
